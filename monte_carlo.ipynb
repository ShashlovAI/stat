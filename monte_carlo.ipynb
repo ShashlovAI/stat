{
 "cells": [
  {
   "cell_type": "code",
   "execution_count": 4,
   "id": "91c0ec04",
   "metadata": {},
   "outputs": [],
   "source": [
    "import numpy as np\n",
    "import math\n",
    "import random"
   ]
  },
  {
   "cell_type": "code",
   "execution_count": null,
   "id": "4303d465",
   "metadata": {},
   "outputs": [],
   "source": [
    "ans = []\n",
    "dice = [1, 2, 3, 4, 5, 6]\n",
    "for i in range(10000):\n",
    "    tmp = []\n",
    "    tmp += list(np.random.choice(dice, size = 2, replace=True))\n",
    "#     while tmp[-1] + tmp[-2] != 12:\n",
    "    while tmp[-1] != tmp[-2]:\n",
    "        tmp += list(np.random.choice(dice, size = 1))\n",
    "    ans.append(len(tmp))\n",
    "    tmp = []\n",
    "np.mean(ans)"
   ]
  },
  {
   "cell_type": "code",
   "execution_count": 125,
   "id": "ed0f71a9",
   "metadata": {},
   "outputs": [
    {
     "data": {
      "text/plain": [
       "6.0"
      ]
     },
     "execution_count": 125,
     "metadata": {},
     "output_type": "execute_result"
    }
   ],
   "source": [
    "42/7"
   ]
  },
  {
   "cell_type": "code",
   "execution_count": 73,
   "id": "1249a052",
   "metadata": {},
   "outputs": [
    {
     "name": "stdout",
     "output_type": "stream",
     "text": [
      "Wall time: 288 ms\n"
     ]
    },
    {
     "data": {
      "text/plain": [
       "3.0004"
      ]
     },
     "execution_count": 73,
     "metadata": {},
     "output_type": "execute_result"
    }
   ],
   "source": [
    "%%time\n",
    "ans = []\n",
    "coin = [1, 2]\n",
    "for i in range(10000):\n",
    "    tmp = []\n",
    "    tmp += list(np.random.choice(coin, size = 2, replace=True))\n",
    "#     while tmp[-1] + tmp[-2] != 4:\n",
    "    while tmp[-1] != tmp[-2]:\n",
    "        tmp += list(np.random.choice(coin, size = 1))\n",
    "    ans.append(len(tmp))\n",
    "    tmp = []\n",
    "np.mean(ans)"
   ]
  },
  {
   "cell_type": "code",
   "execution_count": 77,
   "id": "36c13b04",
   "metadata": {},
   "outputs": [
    {
     "name": "stdout",
     "output_type": "stream",
     "text": [
      "[2] [3]\n",
      "0.629463\n"
     ]
    }
   ],
   "source": [
    "# Мексиканская дуэль\n",
    "lst_1 = [2,3,4]\n",
    "lst_2 = [1,3,4]\n",
    "lst_3 = [1,2,4]\n",
    "lst_4 = [1,2,3]\n",
    "p1 = np.random.choice(lst_1, size = 1) \n",
    "p2 = np.random.choice(lst_2, size = 1)\n",
    "p3 = np.random.choice(lst_3, size = 1) \n",
    "p4 = np.random.choice(lst_4, size = 1)\n",
    "print(p1, p2)\n",
    "ans = []\n",
    "for i in range(1000000):\n",
    "    p1 = np.random.choice(lst_1, size = 1) \n",
    "    p2 = np.random.choice(lst_2, size = 1)\n",
    "    p3 = np.random.choice(lst_3, size = 1) \n",
    "    p4 = np.random.choice(lst_4, size = 1)\n",
    "    if ((p1 == 2  and p2 == 1) or\n",
    "        (p1 == 3  and p3 == 1) or\n",
    "        (p1 == 4  and p4 == 1) or\n",
    "        (p2 == 3  and p3 == 2) or \n",
    "        (p2 == 4  and p4 == 2) or\n",
    "        (p4 == 3  and p3 == 4)):\n",
    "        ans.append(1)\n",
    "    else:\n",
    "        ans.append(0)\n",
    "print(np.mean(ans))"
   ]
  },
  {
   "cell_type": "code",
   "execution_count": 78,
   "id": "55a91cb5",
   "metadata": {},
   "outputs": [
    {
     "data": {
      "text/plain": [
       "0.6296296296296297"
      ]
     },
     "execution_count": 78,
     "metadata": {},
     "output_type": "execute_result"
    }
   ],
   "source": [
    "51/81"
   ]
  },
  {
   "cell_type": "code",
   "execution_count": 63,
   "id": "a1d6ebb7",
   "metadata": {},
   "outputs": [
    {
     "data": {
      "text/plain": [
       "0.30019"
      ]
     },
     "execution_count": 63,
     "metadata": {},
     "output_type": "execute_result"
    }
   ],
   "source": [
    "ans = []\n",
    "n = 4\n",
    "\n",
    "for i in range(1_000_000):\n",
    "    lst = [6, 12, 20]\n",
    "    random.shuffle(lst)\n",
    "    lst.pop()\n",
    "    random.shuffle(lst)\n",
    "    s = lst.pop()\n",
    "    p = np.random.choice(range(1, s + 1), size = 1)\n",
    "    ans.append(p < n)\n",
    "np.mean(ans)"
   ]
  },
  {
   "cell_type": "code",
   "execution_count": 64,
   "id": "a314df5b",
   "metadata": {},
   "outputs": [
    {
     "data": {
      "text/plain": [
       "0.3"
      ]
     },
     "execution_count": 64,
     "metadata": {},
     "output_type": "execute_result"
    }
   ],
   "source": [
    "1/3*(1/2*(3/12 + 3/20)) + 1/3*(1/2*(3/6 + 3/20)) + 1/3*(1/2*(3/6 + 3/12))"
   ]
  }
 ],
 "metadata": {
  "kernelspec": {
   "display_name": "Python 3 (ipykernel)",
   "language": "python",
   "name": "python3"
  },
  "language_info": {
   "codemirror_mode": {
    "name": "ipython",
    "version": 3
   },
   "file_extension": ".py",
   "mimetype": "text/x-python",
   "name": "python",
   "nbconvert_exporter": "python",
   "pygments_lexer": "ipython3",
   "version": "3.9.13"
  }
 },
 "nbformat": 4,
 "nbformat_minor": 5
}
