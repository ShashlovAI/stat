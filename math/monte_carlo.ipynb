{
 "cells": [
  {
   "cell_type": "code",
   "execution_count": 1,
   "id": "91c0ec04",
   "metadata": {},
   "outputs": [],
   "source": [
    "import numpy as np\n",
    "import pandas as pd\n",
    "import seaborn as sns\n",
    "import matplotlib.pyplot as plt\n",
    "from collections import Counter"
   ]
  },
  {
   "cell_type": "code",
   "execution_count": 2,
   "id": "21a2aba6",
   "metadata": {},
   "outputs": [],
   "source": [
    "sns.set_theme(context='notebook', \n",
    "                  style='darkgrid', \n",
    "                  palette='deep',\n",
    "                  font='sans-serif', \n",
    "                  font_scale=1, \n",
    "                  color_codes=True, \n",
    "                  rc=None)"
   ]
  },
  {
   "cell_type": "markdown",
   "id": "4fb26ac9",
   "metadata": {},
   "source": [
    " #  Мексиканская дуэль\n",
    "В вершинах правильного тетраэдра стоят мексиканцы (по одному в каждой вершине). В некоторый момент времени они одновременно стреляют вдоль случайного ребра из своей вершины. Какова вероятность того, что какие-то двое мексиканцев попадут друг в друга?\n"
   ]
  },
  {
   "cell_type": "code",
   "execution_count": 2,
   "id": "36c13b04",
   "metadata": {},
   "outputs": [
    {
     "name": "stdout",
     "output_type": "stream",
     "text": [
      "0.629817\n",
      "Wall time: 56.6 s\n"
     ]
    }
   ],
   "source": [
    "%%time\n",
    "ans = []\n",
    "# Для каждого стрелка создадим список его соседей\n",
    "lst_1 = [2, 3, 4]\n",
    "lst_2 = [1, 3, 4]\n",
    "lst_3 = [1, 2, 4]\n",
    "lst_4 = [1, 2, 3]\n",
    "\n",
    "for i in range(1_000_000):\n",
    "# Случайным образом выбираем кто в кого будет стрелять\n",
    "    p1 = np.random.choice(lst_1, size = 1) \n",
    "    p2 = np.random.choice(lst_2, size = 1)\n",
    "    p3 = np.random.choice(lst_3, size = 1) \n",
    "    p4 = np.random.choice(lst_4, size = 1)\n",
    "# Если есть хотя бы 1 пара, фиксируем попадание\n",
    "    if ((p1 == 2 and p2 == 1) or\n",
    "        (p1 == 3 and p3 == 1) or\n",
    "        (p1 == 4 and p4 == 1) or\n",
    "        (p2 == 3 and p3 == 2) or \n",
    "        (p2 == 4 and p4 == 2) or\n",
    "        (p4 == 3 and p3 == 4)):\n",
    "        ans.append(1)\n",
    "    else:\n",
    "        ans.append(0)\n",
    "print(np.mean(ans))"
   ]
  },
  {
   "cell_type": "markdown",
   "id": "29078529",
   "metadata": {},
   "source": [
    "# Монетки 1\n",
    "Сколько раз в среднем нужно бросить монетку, чтобы выпало два орла/решки подряд?"
   ]
  },
  {
   "cell_type": "code",
   "execution_count": 3,
   "id": "1249a052",
   "metadata": {},
   "outputs": [
    {
     "name": "stdout",
     "output_type": "stream",
     "text": [
      "Wall time: 292 ms\n"
     ]
    },
    {
     "data": {
      "text/plain": [
       "2.9867"
      ]
     },
     "execution_count": 3,
     "metadata": {},
     "output_type": "execute_result"
    }
   ],
   "source": [
    "%%time\n",
    "ans = []\n",
    "tmp = []\n",
    "coin = [0, 1]\n",
    "for i in range(10000):\n",
    "    tmp += list(np.random.choice(coin, size=2, replace=True))\n",
    "    while tmp[-1] != tmp[-2]:\n",
    "        tmp += list(np.random.choice(coin, size=1))\n",
    "    ans.append(len(tmp))\n",
    "    tmp = []\n",
    "np.mean(ans)"
   ]
  },
  {
   "cell_type": "markdown",
   "id": "6a9aaea2",
   "metadata": {},
   "source": [
    "# Монетки 2\n",
    "* n - число подброшенных абсолютно одинаковых монет (независимо)\n",
    "* m - число решек, которые нас интересуют\n",
    "\n",
    "Найти вероятность выпадения **ровно** m решек при броске n монет"
   ]
  },
  {
   "cell_type": "code",
   "execution_count": 18,
   "id": "6a4a022e",
   "metadata": {},
   "outputs": [
    {
     "data": {
      "text/plain": [
       "0.11807"
      ]
     },
     "execution_count": 18,
     "metadata": {},
     "output_type": "execute_result"
    }
   ],
   "source": [
    "n = 10\n",
    "m = 3\n",
    "coin = [0, 1]\n",
    "ans = []\n",
    "for _ in range(100000):\n",
    "    ans.append(sum(np.random.choice(coin, size=n, replace=True)) == m)\n",
    "np.mean(ans)"
   ]
  },
  {
   "cell_type": "markdown",
   "id": "8ed31ace",
   "metadata": {},
   "source": [
    "# Монетки 3\n",
    "* n - число подброшенных абсолютно одинаковых монет (независимо)\n",
    "* m - число решек, которые нас интересуют\n",
    "\n",
    "Найти вероятность выпадения **не менее** m решек при броске n монет"
   ]
  },
  {
   "cell_type": "code",
   "execution_count": 5,
   "id": "2c95f413",
   "metadata": {},
   "outputs": [
    {
     "data": {
      "text/plain": [
       "0.62039"
      ]
     },
     "execution_count": 5,
     "metadata": {},
     "output_type": "execute_result"
    }
   ],
   "source": [
    "n = 10\n",
    "m = 5\n",
    "coin = [0, 1]\n",
    "ans = []\n",
    "for _ in range(100000):\n",
    "    ans.append(sum(np.random.choice(coin, size=n, replace=True)) <= m)\n",
    "np.mean(ans)"
   ]
  },
  {
   "cell_type": "markdown",
   "id": "c715eab1",
   "metadata": {},
   "source": [
    "# Муравьи и треугольник\n",
    "На каждой из трех вершин треугольника сидит муравей. Какова вероятность\n",
    "столкновения (на любой из сторон), если муравьи начнут ползти по сторонам\n",
    "треугольника? Предполагается, что каждый муравей выбирает направление\n",
    "случайным образом, вероятность выбора направлений одинакова и все муравьи\n",
    "ползут с одинаковой скоростью."
   ]
  },
  {
   "cell_type": "code",
   "execution_count": 6,
   "id": "0ef5ee17",
   "metadata": {},
   "outputs": [
    {
     "name": "stdout",
     "output_type": "stream",
     "text": [
      "Wall time: 556 ms\n"
     ]
    },
    {
     "data": {
      "text/plain": [
       "0.24915"
      ]
     },
     "execution_count": 6,
     "metadata": {},
     "output_type": "execute_result"
    }
   ],
   "source": [
    "%%time\n",
    "ans = []\n",
    "for i in range(100_000):\n",
    "    directions = [np.random.randint(0, 2) for _ in range(3)]\n",
    "    if len(set(directions)) == 1:\n",
    "        ans.append(1)\n",
    "    else:\n",
    "        ans.append(0)\n",
    "np.mean(ans)   "
   ]
  },
  {
   "cell_type": "markdown",
   "id": "d0393b4c",
   "metadata": {},
   "source": [
    "# Кубики 1\n",
    "Сколько раз в среднем нужно бросить кубик, чтобы выпало две шестерки подряд?"
   ]
  },
  {
   "cell_type": "code",
   "execution_count": 7,
   "id": "4303d465",
   "metadata": {},
   "outputs": [
    {
     "data": {
      "text/plain": [
       "42.03631"
      ]
     },
     "execution_count": 7,
     "metadata": {},
     "output_type": "execute_result"
    }
   ],
   "source": [
    "ans = []\n",
    "tmp = []\n",
    "dice = [1, 2, 3, 4, 5, 6]\n",
    "for i in range(100_000):\n",
    "    tmp += list(np.random.choice(dice, size=2, replace=True))\n",
    "    while tmp[-1] + tmp[-2] != 12:\n",
    "        tmp += list(np.random.choice(dice, size=1))\n",
    "    ans.append(len(tmp))\n",
    "    tmp = []\n",
    "np.mean(ans)"
   ]
  },
  {
   "cell_type": "markdown",
   "id": "f61df5a1",
   "metadata": {},
   "source": [
    "# Кубики 2\n",
    "В мешке лежат три кубика: 6-гранный, 12-гранный, 20-гранный. Мы достали\n",
    "один кубик наудачу, подкинули его и на нем выпало 4. Какова вероятность,\n",
    "что если мы также достанем и подкинем один из оставшихся в мешке\n",
    "кубиков, на нем выпадет меньше?"
   ]
  },
  {
   "cell_type": "code",
   "execution_count": 10,
   "id": "55a91cb5",
   "metadata": {},
   "outputs": [
    {
     "data": {
      "text/plain": [
       "0.29968"
      ]
     },
     "execution_count": 10,
     "metadata": {},
     "output_type": "execute_result"
    }
   ],
   "source": [
    "ans = []\n",
    "n = 4\n",
    "\n",
    "for i in range(100_000):\n",
    "    lst = [6, 12, 20]\n",
    "    np.random.shuffle(lst)\n",
    "    lst.pop()\n",
    "    np.random.shuffle(lst)\n",
    "    s = lst.pop()\n",
    "    p = np.random.choice(range(1, s + 1), size = 1)\n",
    "    ans.append(p < n)\n",
    "np.mean(ans)"
   ]
  },
  {
   "cell_type": "code",
   "execution_count": 11,
   "id": "a314df5b",
   "metadata": {},
   "outputs": [
    {
     "data": {
      "text/plain": [
       "0.3"
      ]
     },
     "execution_count": 11,
     "metadata": {},
     "output_type": "execute_result"
    }
   ],
   "source": [
    "1/3*(1/2*(3/12 + 3/20)) + 1/3*(1/2*(3/6 + 3/20)) + 1/3*(1/2*(3/6 + 3/12))"
   ]
  },
  {
   "cell_type": "markdown",
   "id": "f5d20154",
   "metadata": {},
   "source": [
    "# Кубики 3\n",
    "В D&D используются самые разные \"кубики\" для моделирования какого-то действия. С 4, 6, 8, 10, 12, 20 и даже особое устройство, со 100 гранями.\n",
    "Найти вероятность выпадения грани 1 "
   ]
  },
  {
   "cell_type": "code",
   "execution_count": 12,
   "id": "505368d7",
   "metadata": {},
   "outputs": [
    {
     "data": {
      "text/plain": [
       "0.16496"
      ]
     },
     "execution_count": 12,
     "metadata": {},
     "output_type": "execute_result"
    }
   ],
   "source": [
    "n = 6\n",
    "dice = [i for i in range(1, n + 1)]\n",
    "sample = np.random.choice(dice, size = 100000)\n",
    "np.count_nonzero(sample == 1) / sample.size"
   ]
  },
  {
   "cell_type": "markdown",
   "id": "a2c6446c",
   "metadata": {},
   "source": [
    "# \"Китайский\" лутбокс\n",
    "В лутбоксе находится N предметов, один из которых особенный.\n",
    "Если выпал обычный предмет, то общее число доступных предметов станет N-1.\n",
    "После получения особенного предмета лутбокс меняется на новый.\n",
    "Нужно найти мат ожидание количества открытий для получения K особенных предметов"
   ]
  },
  {
   "cell_type": "code",
   "execution_count": 16,
   "id": "68b0d96d",
   "metadata": {},
   "outputs": [
    {
     "data": {
      "text/plain": [
       "101.0059"
      ]
     },
     "execution_count": 16,
     "metadata": {},
     "output_type": "execute_result"
    }
   ],
   "source": [
    "ans = []\n",
    "n = 99\n",
    "k = 2\n",
    "lootbox = [0]*n + [1]\n",
    "for i in range(10000):\n",
    "    cnt_open = 1\n",
    "    cnt_success = 0\n",
    "    while cnt_success < 2:\n",
    "        if lootbox.pop(np.random.randint(0, len(lootbox))) == 1:\n",
    "            cnt_success += 1\n",
    "            if cnt_success == k:\n",
    "                ans.append(cnt_open)\n",
    "            lootbox = [0]*n + [1]\n",
    "        cnt_open += 1\n",
    "np.mean(ans)"
   ]
  },
  {
   "cell_type": "markdown",
   "id": "7baf0a0f",
   "metadata": {},
   "source": [
    "# Cтол без ножек\n",
    "Есть круглый стол без ножек.\n",
    "Какова вероятность, что если поставить 3 ножки по краям столешницы, то стол устоит?"
   ]
  },
  {
   "cell_type": "code",
   "execution_count": 14,
   "id": "87c64932",
   "metadata": {},
   "outputs": [
    {
     "data": {
      "text/plain": [
       "0.25063"
      ]
     },
     "execution_count": 14,
     "metadata": {},
     "output_type": "execute_result"
    }
   ],
   "source": [
    "def in_polygon(xp, yp, x=0, y=0):\n",
    "    inside = 0\n",
    "    for i in range(len(xp)):\n",
    "        if (((yp[i]<=y and y<yp[i-1]) or (yp[i-1]<=y and y<yp[i])) and \n",
    "            (x > (xp[i-1] - xp[i]) * (y - yp[i]) / (yp[i-1] - yp[i]) + xp[i])): \n",
    "            inside = 1 - inside    \n",
    "    return inside\n",
    "\n",
    "\n",
    "ans = []\n",
    "for _ in range(100000):\n",
    "    xp = []\n",
    "    yp = []\n",
    "    for _ in range(3):\n",
    "        x = np.random.uniform(low=-1, high=1)\n",
    "        y = (-1)**np.random.randint(1, 3) * (1 - x**2)**0.5\n",
    "        xp.append(x)\n",
    "        yp.append(y)\n",
    "    ans.append(in_polygon(xp, yp))\n",
    "np.mean(ans)"
   ]
  },
  {
   "cell_type": "markdown",
   "id": "ede1def6",
   "metadata": {},
   "source": [
    "# Карты\n",
    "На вход подаётся строка из символов-карт. Гарантируется, что в ней есть все 4 туза ровно по 1 экземпляру, однако остальные карты могут отсутствовать или дублироваться.\n",
    "\n",
    "Колода хорошо равномерно перемешивается.\n",
    "\n",
    "Какова вероятность, что все 4 туза в ней идут подряд (не важно в каком порядке)?"
   ]
  },
  {
   "cell_type": "code",
   "execution_count": 15,
   "id": "91e4afaa",
   "metadata": {},
   "outputs": [
    {
     "data": {
      "text/plain": [
       "0.00049"
      ]
     },
     "execution_count": 15,
     "metadata": {},
     "output_type": "execute_result"
    }
   ],
   "source": [
    "def check():\n",
    "    np.random.shuffle(deck)\n",
    "    return '1111' in ''.join(deck)\n",
    "\n",
    "aces = ['🂡','🂱','🃁','🃑']\n",
    "str_deck = '🂡🂦🂧🂨🂩🂪🂫🂭🂮🂱🂶🂷🂸🂹🂺🂻🂽🂾🃁🃆🃇🃈🃉🃊🃋🃍🃎🃑🃖🃗🃘🃙🃚🃛🃝🃞'\n",
    "\n",
    "deck = ['1' if card in aces else '0' for card in str_deck]\n",
    "\n",
    "np.mean([check() for _ in range(100000)])           "
   ]
  },
  {
   "cell_type": "markdown",
   "id": "d3772b9f",
   "metadata": {},
   "source": [
    "# Конверсии\n",
    "Конверсия из клика в регистрацию составляет 4%, конверсия из регистрации в лид (целевое действие пользователя) 30%. Какова вероятность, что из 60 кликнувших пользователей мы получим хотя бы 1 лид?"
   ]
  },
  {
   "cell_type": "code",
   "execution_count": 94,
   "id": "7f14245d",
   "metadata": {},
   "outputs": [],
   "source": [
    "ans = []\n",
    "for _ in range(100000):\n",
    "    cr_one = np.random.choice(a=[1, 0], size=60, replace=True, p=[0.04, 0.96])\n",
    "    cr_two = np.random.choice(a=[1, 0], size=sum(cr_one), replace=True, p=[0.3, 0.7])\n",
    "    ans.append(cr_two.sum() > 0)"
   ]
  },
  {
   "cell_type": "code",
   "execution_count": 95,
   "id": "7f3bcd28",
   "metadata": {},
   "outputs": [
    {
     "data": {
      "text/plain": [
       "0.51378"
      ]
     },
     "execution_count": 95,
     "metadata": {},
     "output_type": "execute_result"
    }
   ],
   "source": [
    "np.mean(ans)"
   ]
  },
  {
   "cell_type": "code",
   "execution_count": 96,
   "id": "703d2466",
   "metadata": {},
   "outputs": [
    {
     "data": {
      "text/plain": [
       "0.5153628798933746"
      ]
     },
     "execution_count": 96,
     "metadata": {},
     "output_type": "execute_result"
    }
   ],
   "source": [
    "1 - (1 - 0.04 * 0.3)**60"
   ]
  },
  {
   "cell_type": "markdown",
   "id": "6dcf26b2",
   "metadata": {},
   "source": [
    "# Парадокс дней рождения\n",
    "Определить вероятность того, что в группе, состоящей из N человек, у двух людей будет совпадение дней рождения (число и месяц)."
   ]
  },
  {
   "cell_type": "code",
   "execution_count": 8,
   "id": "2d645d63",
   "metadata": {},
   "outputs": [
    {
     "data": {
      "text/plain": [
       "0.5026"
      ]
     },
     "execution_count": 8,
     "metadata": {},
     "output_type": "execute_result"
    }
   ],
   "source": [
    "N = 23\n",
    "res = []\n",
    "for _ in range(10000):\n",
    "    birthdays = [np.random.randint(1, 365, 1)[0] for _ in range(N)]\n",
    "    res.append(sum(Counter(birthdays).values()) > len(Counter(birthdays)))\n",
    "np.mean(res)"
   ]
  },
  {
   "cell_type": "markdown",
   "id": "c29a3206",
   "metadata": {},
   "source": [
    "# Экзамен \n",
    "Экзамен проходит по следующей схеме: если некоторый билет уже был вытянут, то после ответа экзаменатор откладывает его в сторону. Студент выучил 20 билетов из 30. Когда ему выгоднее идти, первым или вторым, чтобы вероятность вынуть выученный билет была больше?"
   ]
  },
  {
   "cell_type": "code",
   "execution_count": 22,
   "id": "d5b763eb",
   "metadata": {},
   "outputs": [
    {
     "name": "stdout",
     "output_type": "stream",
     "text": [
      "0.667 0.664\n"
     ]
    }
   ],
   "source": [
    "p1 = round(2/3, 3)\n",
    "res = []\n",
    "for _ in range(10000):\n",
    "    tickets = list(np.random.binomial(1, p=2/3, size = 30))\n",
    "    np.random.shuffle(tickets)\n",
    "    tickets.pop()\n",
    "    res.append(np.random.choice(tickets) == 1)\n",
    "p2 = round(np.mean(res), 3)\n",
    "print(p1, p2)"
   ]
  },
  {
   "cell_type": "markdown",
   "id": "6015e256",
   "metadata": {},
   "source": [
    "# ДТП\n",
    "Ночью произошло ДТП с участием такси. В городе работают две компании такси — «Синие» и «Зелёные». «Зелёным» принадлежит 85% такси, «Синим» 15%. Свидетель аварии утверждает, что такси принадлежало «Синим». Следственный эксперимент показал, что ночью свидетель верно определяет цвет такси в 80%. Какова вероятность того, что такси действительно принадлежало «Синим»?"
   ]
  },
  {
   "cell_type": "code",
   "execution_count": 26,
   "id": "a035a338",
   "metadata": {},
   "outputs": [
    {
     "data": {
      "text/plain": [
       "answer\n",
       "0    0.043645\n",
       "1    0.410126\n",
       "Name: taxi, dtype: float64"
      ]
     },
     "execution_count": 26,
     "metadata": {},
     "output_type": "execute_result"
    }
   ],
   "source": [
    "res = []\n",
    "for _ in range(10000):\n",
    "    car = np.random.binomial(1, 0.15)\n",
    "    ans = np.random.binomial(1, 0.8)\n",
    "    if ans:        \n",
    "        res.append((car, car))\n",
    "    else:\n",
    "        res.append((car, abs(1-car)))\n",
    "t = pd.DataFrame(res, columns=['taxi','answer'])\n",
    "t.groupby('answer')['taxi'].mean()"
   ]
  },
  {
   "cell_type": "markdown",
   "id": "eb6ce155",
   "metadata": {},
   "source": [
    "# Баскетбол\n",
    "Имеется баскетбольное кольцо, и  предлагается сыграть в одну из двух игр:\n",
    "\n",
    " * Игра 1: Есть один бросок в кольцо.\n",
    "\n",
    "* Игра 2: Есть три попытки, но для победы потребуется не менее двух попаданий.\n",
    "\n",
    "Если р - вероятность попадания в кольцо при броске, при каких значениях р\n",
    "следует выбирать ту или иную игру?"
   ]
  },
  {
   "cell_type": "code",
   "execution_count": 72,
   "id": "ed85fd2d",
   "metadata": {},
   "outputs": [],
   "source": [
    "p_shot = np.linspace(0, 1, 100)\n",
    "p_win_one_shot = []\n",
    "p_win_multi_shot = []\n",
    "for p in p_shot:\n",
    "    res_one_shot = [np.random.binomial(n=1, p=p, size=1) for _ in range(10000)]\n",
    "    p_win_one_shot.append(np.mean(res_one_shot))         \n",
    "    res_multi_shot = [np.random.binomial(n=3, p=p, size=1) >= 2 for _ in range(10000)]\n",
    "    p_win_multi_shot.append(np.mean(res_multi_shot)) "
   ]
  },
  {
   "cell_type": "code",
   "execution_count": 73,
   "id": "b7183baf",
   "metadata": {},
   "outputs": [
    {
     "data": {
      "image/png": "[encoded data removed]",
      "text/plain": [
       "<Figure size 1000x600 with 1 Axes>"
      ]
     },
     "metadata": {},
     "output_type": "display_data"
    }
   ],
   "source": [
    "plt.figure(figsize=(10, 6))\n",
    "sns.lineplot(x=p_shot, y=p_win_one_shot, label = 'Один бросок')\n",
    "sns.lineplot(x=p_shot, y=p_win_multi_shot, label = 'Два из трёх')\n",
    "plt.vlines(x=0.5, ymin=0, ymax=1, linestyles='--')\n",
    "\n",
    "plt.xticks(np.arange(0, 1.1, 0.1))\n",
    "plt.xlabel('Вероятность попадания')\n",
    "plt.ylabel('Вероятность выигрыша')\n",
    "\n",
    "plt.xlim([0, 1])\n",
    "plt.ylim([0, 1])\n",
    "plt.show()"
   ]
  },
  {
   "cell_type": "code",
   "execution_count": 10,
   "id": "3879ca0c",
   "metadata": {},
   "outputs": [],
   "source": [
    "p_shot = np.linspace(0, 1, 100)\n",
    "p_win = [ (3 * p**2 * (1-p)) + p**3 for p in p_shot ]"
   ]
  },
  {
   "cell_type": "code",
   "execution_count": 11,
   "id": "13014358",
   "metadata": {},
   "outputs": [
    {
     "data": {
      "image/png": "[encoded data removed]",
      "text/plain": [
       "<Figure size 1000x600 with 1 Axes>"
      ]
     },
     "metadata": {},
     "output_type": "display_data"
    }
   ],
   "source": [
    "plt.figure(figsize=(10, 6))\n",
    "sns.lineplot(x=p_shot, y=p_shot, label = 'Один бросок')\n",
    "sns.lineplot(x=p_shot, y=p_win, label = 'Два из трёх')\n",
    "plt.vlines(x=0.5, ymin=0, ymax=1, linestyles='--')\n",
    "\n",
    "plt.xticks(np.arange(0, 1.1, 0.1))\n",
    "plt.xlabel('Вероятность попадания')\n",
    "plt.ylabel('Вероятность выигрыша')\n",
    "\n",
    "plt.xlim([0, 1])\n",
    "plt.ylim([0, 1])\n",
    "plt.show()"
   ]
  },
  {
   "cell_type": "markdown",
   "id": "5ee1578f",
   "metadata": {},
   "source": [
    "# Парадокс Монти Холла\n",
    "Представьте, что вы стали участником игры, в которой вам нужно выбрать одну из трёх дверей. За одной из дверей находится автомобиль, за двумя другими дверями — козы. Вы выбираете одну из дверей, например, номер 1, после этого ведущий, который знает, где находится автомобиль, а где — козы, открывает одну из оставшихся дверей, например, номер 3, за которой находится коза. После этого он спрашивает вас — не желаете ли вы изменить свой выбор и выбрать дверь номер 2? Увеличатся ли ваши шансы выиграть автомобиль, если вы примете предложение ведущего и измените свой выбор?\n",
    "\n"
   ]
  },
  {
   "cell_type": "code",
   "execution_count": 7,
   "id": "dc16cc43",
   "metadata": {},
   "outputs": [
    {
     "name": "stdout",
     "output_type": "stream",
     "text": [
      "0.66502 0.6666666666666666\n"
     ]
    }
   ],
   "source": [
    "# Дверь меняется\n",
    "ans = []\n",
    "all_doors = {0, 1, 2}\n",
    "\n",
    "for _ in range(100000):\n",
    "        \n",
    "    prize = np.random.randint(low=0, high=3)\n",
    "    first_choice = np.random.randint(low=0, high=3)\n",
    "        \n",
    "    available_to_open_doors = all_doors - {first_choice} - {prize}\n",
    "    \n",
    "    if len(available_to_open_doors) == 1:\n",
    "        closed_doors = all_doors - available_to_open_doors\n",
    "        final_choice = closed_doors - {first_choice}\n",
    "    else:\n",
    "        closed_doors = all_doors - {list(available_to_open_doors)[0]}\n",
    "        final_choice = closed_doors  - {first_choice}\n",
    "        \n",
    "    if {prize} == final_choice:\n",
    "        ans.append(1)\n",
    "    else:\n",
    "        ans.append(0)\n",
    "print(np.mean(ans), 2/3)"
   ]
  },
  {
   "cell_type": "code",
   "execution_count": 8,
   "id": "57522b29",
   "metadata": {},
   "outputs": [
    {
     "name": "stdout",
     "output_type": "stream",
     "text": [
      "0.33498 0.3333333333333333\n"
     ]
    }
   ],
   "source": [
    "# Дверь не меняется\n",
    "ans = []\n",
    "all_doors = {0, 1, 2}\n",
    "\n",
    "for _ in range(100000):\n",
    "        \n",
    "    prize = np.random.randint(low=0, high=3)\n",
    "    first_choice = np.random.randint(low=0, high=3)\n",
    "        \n",
    "    available_to_open_doors = all_doors - {first_choice} - {prize}\n",
    "    \n",
    "    if len(available_to_open_doors) == 1:\n",
    "        closed_doors = all_doors - available_to_open_doors\n",
    "        final_choice = {first_choice}\n",
    "    else:\n",
    "        closed_doors = all_doors - {list(available_to_open_doors)[0]}\n",
    "        final_choice = {first_choice}\n",
    "        \n",
    "    if {prize} == final_choice:\n",
    "        ans.append(1)\n",
    "    else:\n",
    "        ans.append(0)\n",
    "print(np.mean(ans), 1/3)"
   ]
  },
  {
   "cell_type": "markdown",
   "id": "7045209b",
   "metadata": {},
   "source": [
    "# Последовательные выигрыши\n",
    "Чтобы подбодрить сына, делающего успехи в игре в теннис, отец обещает ему приз, если он выиграет подряд по крайней мере две теннисные партии против своего отца и клубного чемпиона по одной из схем: отец - чемпион - отец или чемпион - отец - чемпион по выбору сына. Чемпион играет лучше отца. Какую схему следует выбрать сыну?"
   ]
  },
  {
   "cell_type": "code",
   "execution_count": 1,
   "id": "9b2a79b9",
   "metadata": {},
   "outputs": [],
   "source": [
    "def check_win(games):\n",
    "    return (games[0] + games[1] == 2) or (games[1] + games[2] == 2) or (games[0] + games[1] + games[2] == 3)"
   ]
  },
  {
   "cell_type": "code",
   "execution_count": 2,
   "id": "5d62ddb0",
   "metadata": {},
   "outputs": [],
   "source": [
    "f = 0.7  # Вероятность обыграть отца\n",
    "c = 0.3  # Вероятность обыграть чемпиона"
   ]
  },
  {
   "cell_type": "code",
   "execution_count": 9,
   "id": "e5da1dc2",
   "metadata": {},
   "outputs": [
    {
     "data": {
      "text/plain": [
       "0.2685"
      ]
     },
     "execution_count": 9,
     "metadata": {},
     "output_type": "execute_result"
    }
   ],
   "source": [
    "#  Тактика FCF\n",
    "ans = []\n",
    "for _ in range(10000):\n",
    "    game_1 = np.random.binomial(n=1, p=f, size=1)\n",
    "    game_2 = np.random.binomial(n=1, p=c, size=1)\n",
    "    game_3 = np.random.binomial(n=1, p=f, size=1)\n",
    "    ans.append(check_win([game_1, game_2, game_3]))\n",
    "np.mean(ans)"
   ]
  },
  {
   "cell_type": "code",
   "execution_count": 10,
   "id": "d7cef3dd",
   "metadata": {},
   "outputs": [
    {
     "data": {
      "text/plain": [
       "0.3489"
      ]
     },
     "execution_count": 10,
     "metadata": {},
     "output_type": "execute_result"
    }
   ],
   "source": [
    "#  Тактика CFC\n",
    "ans = []\n",
    "for _ in range(10000):\n",
    "    game_1 = np.random.binomial(n=1, p=c, size=1)\n",
    "    game_2 = np.random.binomial(n=1, p=f, size=1)\n",
    "    game_3 = np.random.binomial(n=1, p=c, size=1)\n",
    "    ans.append(check_win([game_1, game_2, game_3]))\n",
    "np.mean(ans)"
   ]
  },
  {
   "cell_type": "markdown",
   "id": "dcb25f16",
   "metadata": {},
   "source": [
    "# Легкомысленный член жюри\n",
    "В жюри из трех человек два члена независимо друг от друга принимают правильное решение с вероятностью p, а третий для вынесения решения бросает монету (окончательное решение выносится большинством голосов). Жюри из одного человека выносит справедливое решение с вероятностью p. Какое из этих жюри выносит справедливое решение с большей вероятностью?"
   ]
  },
  {
   "cell_type": "code",
   "execution_count": 68,
   "id": "cfe82e23",
   "metadata": {},
   "outputs": [],
   "source": [
    "p_list = np.linspace(0, 1, 11)\n",
    "p_exp = []\n",
    "for p in p_list:\n",
    "    ans = []\n",
    "    for _ in range(10000):\n",
    "        t1 = sum(np.random.choice(a=[0, 1], size=2, p=[1 - p, p]))  \n",
    "        t2 = sum(np.random.choice(a=[0, 1], size=1, p=[0.5, 0.5]))\n",
    "        ans.append((t1 + t2) >=2) \n",
    "    p_exp.append(np.mean(ans))"
   ]
  },
  {
   "cell_type": "code",
   "execution_count": 69,
   "id": "1f2d62f5",
   "metadata": {},
   "outputs": [
    {
     "data": {
      "image/png": "[encoded data removed]",
      "text/plain": [
       "<Figure size 600x600 with 1 Axes>"
      ]
     },
     "metadata": {},
     "output_type": "display_data"
    }
   ],
   "source": [
    "plt.figure(figsize=(6, 6))\n",
    "sns.scatterplot(x=p_list, \n",
    "                y=p_exp, \n",
    "                s=30, \n",
    "                alpha=0.9)\n",
    "\n",
    "plt.ylabel('Вероятность принять верное решение')\n",
    "plt.xlabel('Вероятность принять верное решение отдельным членом жюри')\n",
    "# plt.title('Разность метрик между группами')\n",
    "plt.show()"
   ]
  },
  {
   "cell_type": "markdown",
   "id": "fbdfedb2",
   "metadata": {},
   "source": [
    "# Выбор купонов\n",
    "Купоны в коробках занумерованы цифрами от 1 до 5, и для того, чтобы выиграть, надо набрать полный комплект из пяти купонов с разными номерами. Если из коробки вынимается один купон, то сколько коробок в среднем надо испытать, чтобы получить полный комплект?"
   ]
  },
  {
   "cell_type": "code",
   "execution_count": 14,
   "id": "f3fbe4c7",
   "metadata": {},
   "outputs": [
    {
     "data": {
      "text/plain": [
       "11.4"
      ]
     },
     "execution_count": 14,
     "metadata": {},
     "output_type": "execute_result"
    }
   ],
   "source": [
    "coupons = [1, 2, 3, 4, 5]\n",
    "ans  = []\n",
    "for _ in range(10000):\n",
    "    my_set = set()\n",
    "    cnt = 0\n",
    "    while len(my_set) < 5:\n",
    "        my_set.add(np.random.choice(a=coupons, size=1)[0])\n",
    "        cnt += 1\n",
    "    ans.append(cnt)\n",
    "np.mean(ans)"
   ]
  },
  {
   "cell_type": "code",
   "execution_count": 6,
   "id": "f74ef973",
   "metadata": {},
   "outputs": [
    {
     "data": {
      "text/plain": [
       "11.416666666666668"
      ]
     },
     "execution_count": 6,
     "metadata": {},
     "output_type": "execute_result"
    }
   ],
   "source": [
    "5/5 + 5/4 + 5/3 + 5/2 + 5/1"
   ]
  },
  {
   "cell_type": "markdown",
   "id": "5a4d609c",
   "metadata": {},
   "source": [
    "# В театре\n",
    "Восемь юношей и семь девушек независимо приобрели по одному билету в одном и том же театральном ряду, насчитывающем 15 мест. Какое среднее число смежных мест занимают в этом ряду пары?"
   ]
  },
  {
   "cell_type": "code",
   "execution_count": 19,
   "id": "75493a47",
   "metadata": {},
   "outputs": [
    {
     "data": {
      "text/plain": [
       "7.46528"
      ]
     },
     "execution_count": 19,
     "metadata": {},
     "output_type": "execute_result"
    }
   ],
   "source": [
    "row  = [1]*8 + [0]*7\n",
    "ans = []\n",
    "for _ in range(100000):\n",
    "    t = []\n",
    "    np.random.shuffle(row)\n",
    "    for i in range(1, len(row)):\n",
    "        t.append((row[i-1] + row[i]) == 1)\n",
    "    ans.append(sum(t))\n",
    "np.mean(ans)"
   ]
  }
 ],
 "metadata": {
  "kernelspec": {
   "display_name": "Python 3 (ipykernel)",
   "language": "python",
   "name": "python3"
  },
  "language_info": {
   "codemirror_mode": {
    "name": "ipython",
    "version": 3
   },
   "file_extension": ".py",
   "mimetype": "text/x-python",
   "name": "python",
   "nbconvert_exporter": "python",
   "pygments_lexer": "ipython3",
   "version": "3.11.3"
  }
 },
 "nbformat": 4,
 "nbformat_minor": 5
}
