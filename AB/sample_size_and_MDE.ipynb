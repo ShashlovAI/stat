{
 "cells": [
  {
   "cell_type": "markdown",
   "metadata": {},
   "source": [
    "# Литература\n",
    "* Статьи ребят из expf:\n",
    "[раз](https://medium.com/statistics-experiments/%D0%BA%D0%BE%D0%B3%D0%B4%D0%B0-%D0%BE%D1%81%D1%82%D0%B0%D0%BD%D0%B0%D0%B2%D0%BB%D0%B8%D0%B2%D0%B0%D1%82%D1%8C-a-b-%D1%82%D0%B5%D1%81%D1%82-%D1%87%D0%B0%D1%81%D1%82%D1%8C-1-mde-7d39b668b488) и [два](https://medium.com/statistics-experiments/%D0%BA%D0%BE%D0%B3%D0%B4%D0%B0-%D0%BE%D1%81%D1%82%D0%B0%D0%BD%D0%B0%D0%B2%D0%BB%D0%B8%D0%B2%D0%B0%D1%82%D1%8C-a-b-%D1%82%D0%B5%D1%81%D1%82-%D1%87%D0%B0%D1%81%D1%82%D1%8C-2-monte-carlo-a342ba5b552c)   \n",
    "\n",
    "* Доклады Толи Карпова:\n",
    "[раз](https://www.youtube.com/watch?v=2nP_gcut7SU) и [два](https://www.youtube.com/watch?v=lJY6eMh10iE)   \n",
    "\n",
    "* [Эван Миллер. Почему разные онлайн калькуляторы дают разные результаты](https://www.linkedin.com/posts/evanmmiller_today-we-discuss-ab-sample-size-formulas-activity-6980615725342179328-hNu6/)\n",
    "\n",
    "* [Расчет мощности в statsmodels](https://www.statmethods.net/stats/power.html)\n",
    "* [Тут брал формулы для пропорций](https://craptalks.com/blog/2021/04/part-2-minimum-detectable-effect-as-a-function-of-sample-size/)\n",
    "* [Чуть более подробно](https://towardsdatascience.com/required-sample-size-for-a-b-testing-6f6608dd330a)\n",
    "* [Что такое размер эффекта](https://en.wikipedia.org/wiki/Effect_size)\n",
    "* [What is the relationship between a chi squared test and test of equal proportions?](https://stats.stackexchange.com/questions/2391/what-is-the-relationship-between-a-chi-squared-test-and-test-of-equal-proportion)\n",
    "* [Как определить размер выборки для бутстрэпа старым дедовским способом](https://habr.com/ru/amp/publications/707816/)\n"
   ]
  },
  {
   "cell_type": "code",
   "execution_count": 1,
   "metadata": {
    "execution": {
     "iopub.execute_input": "2025-08-26T08:59:25.130217Z",
     "iopub.status.busy": "2025-08-26T08:59:25.129447Z",
     "iopub.status.idle": "2025-08-26T08:59:26.335325Z",
     "shell.execute_reply": "2025-08-26T08:59:26.334563Z",
     "shell.execute_reply.started": "2025-08-26T08:59:25.130154Z"
    },
    "executionInfo": {
     "elapsed": 1176,
     "status": "ok",
     "timestamp": 1674542418569,
     "user": {
      "displayName": "Nikolay Nazarov",
      "userId": "18018785782997408667"
     },
     "user_tz": -420
    },
    "id": "PCSSMo4AL3Xu"
   },
   "outputs": [],
   "source": [
    "import numpy as np\n",
    "import matplotlib.pyplot as plt\n",
    "from matplotlib.patches import ConnectionPatch\n",
    "import seaborn as sns\n",
    "import math\n",
    "from scipy.stats import norm, ttest_ind\n",
    "from statsmodels.stats.proportion import proportions_ztest"
   ]
  },
  {
   "cell_type": "markdown",
   "metadata": {},
   "source": [
    "# Размер выборки (sample size) и минимальный детектируемый эффект (MDE) для сравнения  средних значений"
   ]
  },
  {
   "cell_type": "markdown",
   "metadata": {
    "id": "Lu9rdrAhjBLM"
   },
   "source": [
    "Рассмотрим гипотезу о равенстве средних\n",
    "\n",
    "$H_0: \\mu_X = \\mu_Y$\n",
    "\n",
    "против альтернативной\n",
    "\n",
    "$H_1: \\mu_X \\neq \\mu_Y$\n",
    "\n",
    "\n",
    "$$n = \\dfrac{\\left[ \\Phi^{-1}\\Bigl( 1-\\dfrac{\\alpha}{2} \\Bigr) + \\Phi^{-1} \\Bigl( 1-\\beta \\Bigr) \\right]^2 (\\sigma_X^2 + \\sigma_Y^2)}{\\Delta^2}$$\n",
    "\n",
    "\n",
    "$$\\Delta = \\frac{\\left[ \\Phi^{-1} \\left( 1-\\dfrac{\\alpha}{2} \\right) + \\Phi^{-1} \\left( 1-\\beta \\right) \\right] \\sqrt{ \\sigma_X^2 + \\sigma_Y^2 }}{\\sqrt{n}}$$\n",
    "\n",
    "${\\alpha}$ − вероятность ошибки первого рода, она же уровень значимости\n",
    "\n",
    "${\\beta}$ − вероятность ошибки второго рода\n",
    "\n",
    "$\\sigma_X , \\sigma_Y$  − стандартные отклонения в контрольной и экспериментальной группах соответственно. Эти значения можно оценить по историческим данным.\n",
    "\n",
    "$\\Delta = \\mu_X - \\mu_Y$ − ожидаемый эффект - эффект, который мы ожидаем получить от эксперимента\n",
    "\n",
    "$\\Phi^{-1}$ − Обратная функция нормального распределения\n",
    "\n",
    "Для ${\\alpha} = 0.05,  \\Phi^{-1} \\Bigl( 1-\\dfrac{\\alpha}{2}\\Bigr) = 1.96$,\n",
    "\n",
    "Для ${\\beta} = 0.1,  \\Phi^{-1} \\Bigl( 1-\\beta \\Bigr) = 1.28$\n",
    "\n",
    "Реализация формулы для случая **равных дисперсий и двустороннего теста** (для одностороннего  заменить  $\\Phi^{-1} \\Bigl( 1-\\dfrac{\\alpha}{2}\\Bigr)$  на $\\Phi^{-1} \\Bigl( 1-{\\alpha}\\Bigr)$:"
   ]
  },
  {
   "cell_type": "code",
   "execution_count": 2,
   "metadata": {
    "execution": {
     "iopub.execute_input": "2025-08-26T08:59:29.456859Z",
     "iopub.status.busy": "2025-08-26T08:59:29.455847Z",
     "iopub.status.idle": "2025-08-26T08:59:29.473637Z",
     "shell.execute_reply": "2025-08-26T08:59:29.472066Z",
     "shell.execute_reply.started": "2025-08-26T08:59:29.456793Z"
    },
    "executionInfo": {
     "elapsed": 36,
     "status": "ok",
     "timestamp": 1674542420102,
     "user": {
      "displayName": "Nikolay Nazarov",
      "userId": "18018785782997408667"
     },
     "user_tz": -420
    },
    "id": "B4TKdg-njj4V"
   },
   "outputs": [],
   "source": [
    "#   Для абсолютного изменения\n",
    "def get_sample_size_abs(delta, std, alpha=0.05, beta=0.2):\n",
    "    t_alpha = norm.ppf(1 - alpha / 2, loc=0, scale=1)\n",
    "    t_beta = norm.ppf(1 - beta, loc=0, scale=1)\n",
    "    z_scores_sum_squared = (t_alpha + t_beta) ** 2\n",
    "    sample_size = int(\n",
    "        np.ceil(\n",
    "            z_scores_sum_squared * (2 * std ** 2) / (delta ** 2)\n",
    "        )\n",
    "    )\n",
    "    return sample_size\n",
    "\n",
    "#   Для относительного изменения\n",
    "def get_sample_size_arb(mu, std, eff, alpha=0.05, beta=0.2):\n",
    "    delta = (eff - 1) * mu\n",
    "    return get_sample_size_abs(delta, std=std, alpha=alpha, beta=beta)\n",
    "\n",
    "# MDE\n",
    "def get_minimal_detectable_effect(std, sample_size, alpha=0.05, beta=0.2):\n",
    "    t_alpha = norm.ppf(1 - alpha / 2, loc=0, scale=1)\n",
    "    t_beta = norm.ppf(1 - beta, loc=0, scale=1)\n",
    "    disp_sum_sqrt = (2 * (std ** 2)) ** 0.5\n",
    "    mde = (t_alpha + t_beta) * disp_sum_sqrt / np.sqrt(sample_size)\n",
    "    return mde"
   ]
  },
  {
   "cell_type": "markdown",
   "metadata": {},
   "source": [
    "###  Есть и готовая реализация"
   ]
  },
  {
   "cell_type": "code",
   "execution_count": 3,
   "metadata": {
    "execution": {
     "iopub.execute_input": "2025-08-26T08:59:31.385542Z",
     "iopub.status.busy": "2025-08-26T08:59:31.384733Z",
     "iopub.status.idle": "2025-08-26T08:59:31.394858Z",
     "shell.execute_reply": "2025-08-26T08:59:31.393392Z",
     "shell.execute_reply.started": "2025-08-26T08:59:31.385481Z"
    }
   },
   "outputs": [],
   "source": [
    "from statsmodels.stats.power import tt_ind_solve_power "
   ]
  },
  {
   "cell_type": "markdown",
   "metadata": {},
   "source": [
    "### Пример"
   ]
  },
  {
   "cell_type": "code",
   "execution_count": 23,
   "metadata": {},
   "outputs": [],
   "source": [
    "mu = 300\n",
    "std = 150\n",
    "eff = 1.05\n",
    "alpha = 0.05\n",
    "beta = 0.2"
   ]
  },
  {
   "cell_type": "code",
   "execution_count": 24,
   "metadata": {},
   "outputs": [
    {
     "name": "stdout",
     "output_type": "stream",
     "text": [
      "sample_size get_sample_size = 1570\n",
      "sample_size statsmodels = 1571\n",
      "\n",
      "mde get_minimal_detectable_effect = 14.9989\n",
      "mde statsmodels = 15.0036\n",
      "\n"
     ]
    }
   ],
   "source": [
    "sample_size_1 = get_sample_size_arb(mu=mu, \n",
    "                                    std=std, \n",
    "                                    eff=eff,\n",
    "                                    alpha=alpha, \n",
    "                                    beta=beta)\n",
    "\n",
    "standardized_effect_size = (eff - 1) * mu / std\n",
    "sample_size_2 = tt_ind_solve_power(effect_size=standardized_effect_size,\n",
    "                                    nobs1=None,\n",
    "                                    alpha=alpha,\n",
    "                                    power=1-beta,\n",
    "                                    ratio=1.0,\n",
    "                                    alternative='two-sided')\n",
    "\n",
    "\n",
    "print(f'sample_size get_sample_size = {sample_size_1}')\n",
    "print(f'sample_size statsmodels = {sample_size_2:1.0f}\\n')\n",
    "\n",
    "\n",
    "sample_size = sample_size_1\n",
    "\n",
    "mde_1 = get_minimal_detectable_effect(std=std, \n",
    "                                        sample_size=sample_size,\n",
    "                                        alpha=alpha, \n",
    "                                        beta=beta)\n",
    "\n",
    "mde_2 = tt_ind_solve_power(effect_size=None,\n",
    "                           nobs1=sample_size,\n",
    "                           alpha=alpha,\n",
    "                           power=1-beta,\n",
    "                           ratio=1.0,\n",
    "                           alternative='two-sided')\n",
    "mde = mde_1\n",
    "\n",
    "print(f'mde get_minimal_detectable_effect = {mde_1:0.4f}')\n",
    "print(f'mde statsmodels = {mde_2*std:0.4f}\\n')"
   ]
  },
  {
   "cell_type": "code",
   "execution_count": 25,
   "metadata": {},
   "outputs": [
    {
     "data": {
      "image/png": "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",
      "text/plain": [
       "<Figure size 600x300 with 1 Axes>"
      ]
     },
     "metadata": {},
     "output_type": "display_data"
    }
   ],
   "source": [
    "x = np.linspace(mu - 3*std, mu + 3*std, 10000)\n",
    "\n",
    "a = norm.pdf(x, loc=mu, scale=std)\n",
    "b = norm.pdf(x, mu+mde, scale=std)\n",
    "\n",
    "fig, ax = plt.subplots(nrows=1, ncols=1, figsize=(6, 3))\n",
    "\n",
    "sns.lineplot(x=x, y=a, ax=ax, color='blue', label='μ')\n",
    "ax.axvline(x=mu, linestyle='--', color='blue')\n",
    "\n",
    "sns.lineplot(x=x, y=b, ax=ax, color='red', label='μ + mde')\n",
    "ax.axvline(x=mu+mde, linestyle='--', color='red')\n",
    "\n",
    "x_min = mu - 3*std\n",
    "x_max = mu + 3*std\n",
    "\n",
    "ax.set_xlim(x_min, x_max)\n",
    "\n",
    "plt.show()"
   ]
  },
  {
   "cell_type": "code",
   "execution_count": 26,
   "metadata": {},
   "outputs": [
    {
     "data": {
      "image/png": "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",
      "text/plain": [
       "<Figure size 1000x500 with 2 Axes>"
      ]
     },
     "metadata": {},
     "output_type": "display_data"
    }
   ],
   "source": [
    "sem = (4*std**2 / (sample_size*2))**0.5\n",
    "\n",
    "a_q = norm.ppf(q=1-alpha/2, loc=0, scale=sem)\n",
    "b_q = norm.ppf(q=beta, loc=mde, scale=sem)\n",
    "\n",
    "a = norm.pdf(x, loc=0, scale=sem)\n",
    "b = norm.pdf(x, loc=mde, scale=sem)\n",
    "\n",
    "fig, (ax1, ax2) = plt.subplots(nrows=2, ncols=1, figsize=(10, 5))\n",
    "\n",
    "l1 = sns.lineplot(x=x, y=a, ax=ax1, color='blue')\n",
    "ax1.axvline(x=0, linestyle='--', color='blue')\n",
    "ax1.fill_between(x, a, where=x>a_q, alpha=0.5, color = 'b')\n",
    "ax1.fill_between(x, a, where=x<-a_q, alpha=0.5, color = 'b')\n",
    "\n",
    "l2 = sns.lineplot(x=x, y=b, ax=ax2, color='red')\n",
    "ax2.axvline(x=mde, linestyle='--', color='red')\n",
    "ax2.fill_between(x, b, where=x>b_q, color='red', alpha=0.5)\n",
    "ax2.fill_between(x, b, where=x<b_q, color='grey', alpha=0.5)\n",
    "\n",
    "x_min = 0 - 5*sem\n",
    "x_max = 0 + 5*sem\n",
    "ax1.set_xlim(x_min, x_max)\n",
    "ax2.set_xlim(x_min, x_max)\n",
    "\n",
    "\n",
    "plt.legend(labels = ['m-m0 = 0', 'm-m0 = mde'], \n",
    "         handles=[l1.get_lines()[0], l2.get_lines()[0]])\n",
    "\n",
    "\n",
    "xy_a = (a_q, max(a))\n",
    "xy_b = (b_q, 0)\n",
    "con = ConnectionPatch(xyA=xy_a, coordsA=ax1.transData,\n",
    "                      xyB=xy_b, coordsB=ax2.transData)\n",
    "con.set_linewidth(0.7)\n",
    "con.set_linestyle('dashed')\n",
    "fig.add_artist(con)\n",
    "plt.show()"
   ]
  },
  {
   "cell_type": "markdown",
   "metadata": {
    "id": "6agG76oLBRDL"
   },
   "source": [
    "# Размер выборки (sample size) и минимальный детектируемый эффект (MDE) для сравнения  пропорций"
   ]
  },
  {
   "cell_type": "markdown",
   "metadata": {
    "id": "Lu9rdrAhjBLM"
   },
   "source": [
    "Рассмотрим гипотезу о равенстве средних\n",
    "\n",
    "$H_0: p_X = p_Y$\n",
    "\n",
    "против альтернативной\n",
    "\n",
    "$H_1: p_X \\neq p_Y$\n",
    "\n",
    "\n",
    "$$n = \\dfrac{\\left[ \\Phi^{-1} \\Bigl( 1-\\dfrac{\\alpha}{2} \\Bigr) + \\Phi^{-1} \\Bigl( 1-\\beta \\Bigr) \\right]^2 (p_X*(1-p_X) + p_Y*(1-p_Y))}{\\Delta^2}$$\n",
    "\n",
    "${\\alpha}$ − вероятность ошибки первого рода, она же уровень значимости\n",
    "\n",
    "${\\beta}$ − вероятность ошибки второго рода\n",
    "\n",
    "$p_X*(1-p_X) , p_Y*(1-p_Y)$  − дисперсии в контрольной и экспериментальной группах соответственно\n",
    "\n",
    "$\\Delta = p_X - p_Y$ − ожидаемый эффект - эффект, который мы ожидаем получить от эксперимента\n",
    "\n",
    "$\\Phi^{-1}$ − Обратная функция нормального распределения\n",
    "\n",
    "Для ${\\alpha} = 0.05,  \\Phi^{-1} \\Bigl( 1-\\dfrac{\\alpha}{2}\\Bigr) = 1.96$,\n",
    "\n",
    "Для ${\\beta} = 0.1,  \\Phi^{-1} \\Bigl( 1-\\beta \\Bigr) = 1.28$\n",
    "\n",
    "Реализация формулы для случая **двустороннего теста** (для одностороннего  заменить  $\\Phi^{-1} \\Bigl( 1-\\dfrac{\\alpha}{2}\\Bigr)$  на $\\Phi^{-1} \\Bigl( 1-{\\alpha}\\Bigr)$\n",
    "\n",
    "Для получения MDE для пропорций сразу используем готовое решение"
   ]
  },
  {
   "cell_type": "code",
   "execution_count": 27,
   "metadata": {
    "executionInfo": {
     "elapsed": 36,
     "status": "ok",
     "timestamp": 1674542420102,
     "user": {
      "displayName": "Nikolay Nazarov",
      "userId": "18018785782997408667"
     },
     "user_tz": -420
    },
    "id": "B4TKdg-njj4V"
   },
   "outputs": [],
   "source": [
    "#   Для абсолютного изменения\n",
    "def get_sample_size_abs(p, delta, alpha=0.05, beta=0.2):\n",
    "    t_alpha = norm.ppf(1 - alpha / 2, loc=0, scale=1)\n",
    "    t_beta = norm.ppf(1 - beta, loc=0, scale=1)\n",
    "    z_scores_sum_squared = (t_alpha + t_beta) ** 2\n",
    "    var = (p * (1 - p)) + ((p + delta) * (1 - (p + delta))) \n",
    "    sample_size = int(\n",
    "        np.ceil(\n",
    "            z_scores_sum_squared * var / (delta ** 2)\n",
    "        )\n",
    "    )\n",
    "    return sample_size\n",
    "\n",
    "#   Для относительного изменения\n",
    "def get_sample_size_arb(p, eff, alpha=0.05, beta=0.2):\n",
    "    delta = (eff - 1) * p\n",
    "    return get_sample_size_abs(p=p, delta=delta, alpha=alpha, beta=beta)"
   ]
  },
  {
   "cell_type": "markdown",
   "metadata": {},
   "source": [
    "###  Есть и готовая реализация"
   ]
  },
  {
   "cell_type": "code",
   "execution_count": 28,
   "metadata": {},
   "outputs": [],
   "source": [
    "from statsmodels.stats.power import zt_ind_solve_power"
   ]
  },
  {
   "cell_type": "markdown",
   "metadata": {},
   "source": [
    "### Пример"
   ]
  },
  {
   "cell_type": "code",
   "execution_count": 29,
   "metadata": {},
   "outputs": [],
   "source": [
    "p = 0.3\n",
    "eff = 1.1\n",
    "alpha = 0.05\n",
    "beta = 0.2"
   ]
  },
  {
   "cell_type": "code",
   "execution_count": 30,
   "metadata": {},
   "outputs": [
    {
     "name": "stdout",
     "output_type": "stream",
     "text": [
      "sample_size:\n",
      "get_sample_size = 3760\n",
      "statsmodels = 3762\n",
      "\n",
      "mde:\n",
      "statsmodels = 0.02961\n"
     ]
    }
   ],
   "source": [
    "sample_size_1 = get_sample_size_arb(p=p,  \n",
    "                                    eff=eff,\n",
    "                                    alpha=0.05, \n",
    "                                    beta=0.2)\n",
    "\n",
    "standardized_effect_size = 2 * (np.arcsin(np.sqrt(p)) - np.arcsin(np.sqrt(p*eff)))\n",
    "sample_size_2 = zt_ind_solve_power(effect_size=standardized_effect_size,\n",
    "                                    nobs1=None,                                   \n",
    "                                    alpha=alpha,\n",
    "                                    power=1-beta,\n",
    "                                    ratio=1.0,\n",
    "                                    alternative='two-sided'\n",
    "                                  )\n",
    "\n",
    "print('sample_size:')\n",
    "print(f'get_sample_size = {sample_size_1}', f'statsmodels = {sample_size_2:1.0f}', sep = '\\n', end = '\\n\\n')\n",
    "\n",
    "\n",
    "sample_size = sample_size_1\n",
    "\n",
    "\n",
    "mde = zt_ind_solve_power(effect_size=None,\n",
    "                           nobs1=sample_size,\n",
    "                           alpha=alpha,\n",
    "                           power=1-beta,\n",
    "                           ratio=1.0,\n",
    "                           alternative='two-sided')\n",
    "\n",
    "#  Пакет statsmodels возвращает стандартизированное\n",
    "#  значение MDE (долю от среднеквадратичного отклонения)\n",
    "mde_abs = mde * (np.sqrt(p * (1 - p)))\n",
    "print('mde:')\n",
    "print(f'statsmodels = {mde_abs:0.5f}', sep = '\\n', end = '\\n')"
   ]
  },
  {
   "cell_type": "code",
   "execution_count": 31,
   "metadata": {
    "colab": {
     "base_uri": "https://localhost:8080/"
    },
    "executionInfo": {
     "elapsed": 17059,
     "status": "ok",
     "timestamp": 1674542477815,
     "user": {
      "displayName": "Nikolay Nazarov",
      "userId": "18018785782997408667"
     },
     "user_tz": -420
    },
    "id": "PXaNl3ouuERd",
    "outputId": "7f31c6fe-2a48-4837-b528-a6dabc74b38a"
   },
   "outputs": [
    {
     "name": "stdout",
     "output_type": "stream",
     "text": [
      "mde = 0.06461365653606967\n",
      "\n",
      "Ошибки I и II рода:\n",
      "  0.046 \t0.225\n",
      "  0.048 \t0.219\n",
      "  0.051 \t0.211\n",
      "  0.050 \t0.209\n",
      "  0.051 \t0.215\n"
     ]
    }
   ],
   "source": [
    "def check_ztest(a, b, alpha=0.05):\n",
    "    _, pvalue = proportions_ztest([sum(a), sum(b)], [len(a), len(b)], value=0)\n",
    "    return int(pvalue < alpha)\n",
    "\n",
    "print(f'mde = {mde}\\n')\n",
    "print('Ошибки I и II рода:')\n",
    "for _ in range(5):\n",
    "    result_aa = []\n",
    "    result_ab = []\n",
    "    for _ in range(5000):\n",
    "        a_one = np.random.binomial(n=1, p=p, size=sample_size)\n",
    "        a_two = np.random.binomial(n=1, p=p, size=sample_size)\n",
    "        b = np.random.binomial(n=1, p=p + mde_abs, size=sample_size)\n",
    "        result_aa.append(check_ztest(a_one, a_two, alpha=alpha))\n",
    "        result_ab.append(check_ztest(a_one, b, alpha=alpha))\n",
    "\n",
    "    error_first = np.mean(result_aa)\n",
    "    error_second = 1 - np.mean(result_ab)\n",
    "    print(f'  {error_first:0.3f} \\t{error_second:0.3f}')"
   ]
  }
 ],
 "metadata": {
  "colab": {
   "provenance": []
  },
  "kernelspec": {
   "display_name": "Python 3 (ipykernel)",
   "language": "python",
   "name": "python3"
  },
  "language_info": {
   "codemirror_mode": {
    "name": "ipython",
    "version": 3
   },
   "file_extension": ".py",
   "mimetype": "text/x-python",
   "name": "python",
   "nbconvert_exporter": "python",
   "pygments_lexer": "ipython3",
   "version": "3.11.9"
  },
 },
 "nbformat": 4,
 "nbformat_minor": 4
}
