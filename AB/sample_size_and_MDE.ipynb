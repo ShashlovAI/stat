{
 "cells": [
  {
   "cell_type": "markdown",
   "metadata": {},
   "source": [
    "# Литература\n",
    "* Статьи ребят из expf:\n",
    "[раз](https://medium.com/statistics-experiments/%D0%BA%D0%BE%D0%B3%D0%B4%D0%B0-%D0%BE%D1%81%D1%82%D0%B0%D0%BD%D0%B0%D0%B2%D0%BB%D0%B8%D0%B2%D0%B0%D1%82%D1%8C-a-b-%D1%82%D0%B5%D1%81%D1%82-%D1%87%D0%B0%D1%81%D1%82%D1%8C-1-mde-7d39b668b488) и [два](https://medium.com/statistics-experiments/%D0%BA%D0%BE%D0%B3%D0%B4%D0%B0-%D0%BE%D1%81%D1%82%D0%B0%D0%BD%D0%B0%D0%B2%D0%BB%D0%B8%D0%B2%D0%B0%D1%82%D1%8C-a-b-%D1%82%D0%B5%D1%81%D1%82-%D1%87%D0%B0%D1%81%D1%82%D1%8C-2-monte-carlo-a342ba5b552c)   \n",
    "\n",
    "* Доклады Толи Карпова:\n",
    "[раз](https://www.youtube.com/watch?v=2nP_gcut7SU) и [два](https://www.youtube.com/watch?v=lJY6eMh10iE)   \n",
    "\n",
    "* [Эван Миллер. Почему разные онлайн калькуляторы дают разные результаты](https://www.linkedin.com/posts/evanmmiller_today-we-discuss-ab-sample-size-formulas-activity-6980615725342179328-hNu6/)\n",
    "\n",
    "* [Расчет мощности в statsmodels](https://www.statmethods.net/stats/power.html)\n",
    "* [Тут брал формулы для пропорций](https://craptalks.com/blog/2021/04/part-2-minimum-detectable-effect-as-a-function-of-sample-size/)\n",
    "* [Чуть более подробно](https://towardsdatascience.com/required-sample-size-for-a-b-testing-6f6608dd330a)\n",
    "* [Что такое размер эффекта](https://en.wikipedia.org/wiki/Effect_size)\n",
    "* [What is the relationship between a chi squared test and test of equal proportions?](https://stats.stackexchange.com/questions/2391/what-is-the-relationship-between-a-chi-squared-test-and-test-of-equal-proportion)\n",
    "* [Как определить размер выборки для бутстрэпа старым дедовским способом](https://habr.com/ru/amp/publications/707816/)\n"
   ]
  },
  {
   "cell_type": "code",
   "execution_count": 1649,
   "metadata": {
    "executionInfo": {
     "elapsed": 1176,
     "status": "ok",
     "timestamp": 1674542418569,
     "user": {
      "displayName": "Nikolay Nazarov",
      "userId": "18018785782997408667"
     },
     "user_tz": -420
    },
    "id": "PCSSMo4AL3Xu"
   },
   "outputs": [],
   "source": [
    "import numpy as np\n",
    "import matplotlib.pyplot as plt\n",
    "import math\n",
    "from scipy.stats import norm, ttest_ind\n",
    "from statsmodels.stats.proportion import proportions_ztest\n",
    "# import statsmodels.stats.power as smp"
   ]
  },
  {
   "cell_type": "markdown",
   "metadata": {},
   "source": [
    "# Размер выборки (sample size) и минимальный детектируемый эффект (MDE) для сравнения  средних значений"
   ]
  },
  {
   "cell_type": "markdown",
   "metadata": {
    "id": "Lu9rdrAhjBLM"
   },
   "source": [
    "Рассмотрим гипотезу о равенстве средних\n",
    "\n",
    "$H_0: \\mu_X = \\mu_Y$\n",
    "\n",
    "против альтернативной\n",
    "\n",
    "$H_1: \\mu_X \\neq \\mu_Y$\n",
    "\n",
    "\n",
    "$$n = \\dfrac{\\left[ \\Phi^{-1}\\Bigl( 1-\\dfrac{\\alpha}{2} \\Bigr) + \\Phi^{-1} \\Bigl( 1-\\beta \\Bigr) \\right]^2 (\\sigma_X^2 + \\sigma_Y^2)}{\\Delta^2}$$\n",
    "\n",
    "\n",
    "$$\\Delta = \\frac{\\left[ \\Phi^{-1} \\left( 1-\\dfrac{\\alpha}{2} \\right) + \\Phi^{-1} \\left( 1-\\beta \\right) \\right] \\sqrt{ \\sigma_X^2 + \\sigma_Y^2 }}{\\sqrt{n}}$$\n",
    "\n",
    "${\\alpha}$ − вероятность ошибки первого рода, она же уровень значимости\n",
    "\n",
    "${\\beta}$ − вероятность ошибки второго рода\n",
    "\n",
    "$\\sigma_X , \\sigma_Y$  − стандартные отклонения в контрольной и экспериментальной группах соответственно. Эти значения можно оценить по историческим данным.\n",
    "\n",
    "$\\Delta = \\mu_X - \\mu_Y$ − ожидаемый эффект - эффект, который мы ожидаем получить от эксперимента\n",
    "\n",
    "$\\Phi^{-1}$ − Обратная функция нормального распределения\n",
    "\n",
    "Для ${\\alpha} = 0.05,  \\Phi^{-1} \\Bigl( 1-\\dfrac{\\alpha}{2}\\Bigr) = 1.96$,\n",
    "\n",
    "Для ${\\beta} = 0.1,  \\Phi^{-1} \\Bigl( 1-\\beta \\Bigr) = 1.28$\n",
    "\n",
    "Реализация формулы для случая **равных дисперсий и двустороннего теста** (для одностороннего  заменить  $\\Phi^{-1} \\Bigl( 1-\\dfrac{\\alpha}{2}\\Bigr)$  на $\\Phi^{-1} \\Bigl( 1-{\\alpha}\\Bigr)$:"
   ]
  },
  {
   "cell_type": "code",
   "execution_count": 1650,
   "metadata": {
    "executionInfo": {
     "elapsed": 36,
     "status": "ok",
     "timestamp": 1674542420102,
     "user": {
      "displayName": "Nikolay Nazarov",
      "userId": "18018785782997408667"
     },
     "user_tz": -420
    },
    "id": "B4TKdg-njj4V"
   },
   "outputs": [],
   "source": [
    "#   Для абсолютного изменения\n",
    "def get_sample_size_abs(delta, std, alpha=0.05, beta=0.2):\n",
    "    t_alpha = norm.ppf(1 - alpha / 2, loc=0, scale=1)\n",
    "    t_beta = norm.ppf(1 - beta, loc=0, scale=1)\n",
    "    z_scores_sum_squared = (t_alpha + t_beta) ** 2\n",
    "    sample_size = int(\n",
    "        np.ceil(\n",
    "            z_scores_sum_squared * (2 * std ** 2) / (delta ** 2)\n",
    "        )\n",
    "    )\n",
    "    return sample_size\n",
    "\n",
    "#   Для относительного изменения\n",
    "def get_sample_size_arb(mu, std, eff, alpha=0.05, beta=0.2):\n",
    "    delta = (eff - 1) * mu\n",
    "    return get_sample_size_abs(delta, std=std, alpha=alpha, beta=beta)\n",
    "\n",
    "# MDE\n",
    "def get_minimal_determinable_effect(std, sample_size, alpha=0.05, beta=0.2):\n",
    "    t_alpha = norm.ppf(1 - alpha / 2, loc=0, scale=1)\n",
    "    t_beta = norm.ppf(1 - beta, loc=0, scale=1)\n",
    "    disp_sum_sqrt = (2 * (std ** 2)) ** 0.5\n",
    "    mde = (t_alpha + t_beta) * disp_sum_sqrt / np.sqrt(sample_size)\n",
    "    return mde"
   ]
  },
  {
   "cell_type": "markdown",
   "metadata": {},
   "source": [
    "###  Есть и готовая реализация"
   ]
  },
  {
   "cell_type": "code",
   "execution_count": 1651,
   "metadata": {},
   "outputs": [],
   "source": [
    "from statsmodels.stats.power import tt_ind_solve_power "
   ]
  },
  {
   "cell_type": "markdown",
   "metadata": {},
   "source": [
    "### Пример"
   ]
  },
  {
   "cell_type": "code",
   "execution_count": 1652,
   "metadata": {},
   "outputs": [],
   "source": [
    "mu = 300\n",
    "std = 150\n",
    "eff = 1.05\n",
    "alpha = 0.05\n",
    "beta = 0.2"
   ]
  },
  {
   "cell_type": "code",
   "execution_count": 1653,
   "metadata": {},
   "outputs": [
    {
     "name": "stdout",
     "output_type": "stream",
     "text": [
      "sample_size get_sample_size = 1570\n",
      "sample_size statsmodels = 1571\n",
      "\n",
      "mde get_minimal_determinable_effect = 14.9989\n",
      "mde statsmodels = 15.0036\n",
      "\n"
     ]
    }
   ],
   "source": [
    "sample_size_1 = get_sample_size_arb(mu=mu, \n",
    "                                    std=std, \n",
    "                                    eff=eff,\n",
    "                                    alpha=0.05, \n",
    "                                    beta=0.2)\n",
    "\n",
    "standardized_effect_size = (eff - 1) * mu / std\n",
    "sample_size_2 = tt_ind_solve_power(effect_size=standardized_effect_size,\n",
    "                                    nobs1=None,\n",
    "                                    alpha=alpha,\n",
    "                                    power=1-beta,\n",
    "                                    ratio=1.0,\n",
    "                                    alternative='two-sided')\n",
    "\n",
    "\n",
    "print(f'sample_size get_sample_size = {sample_size_1}')\n",
    "print(f'sample_size statsmodels = {sample_size_2:1.0f}\\n')\n",
    "\n",
    "\n",
    "sample_size = sample_size_1\n",
    "\n",
    "mde_1 = get_minimal_determinable_effect(std=std, \n",
    "                                        sample_size=sample_size,\n",
    "                                        alpha=alpha, \n",
    "                                        beta=beta)\n",
    "\n",
    "mde_2 = tt_ind_solve_power(effect_size=None,\n",
    "                           nobs1=sample_size,\n",
    "                           alpha=alpha,\n",
    "                           power=1-beta,\n",
    "                           ratio=1.0,\n",
    "                           alternative='two-sided')\n",
    "\n",
    "\n",
    "print(f'mde get_minimal_determinable_effect = {mde_1:0.4f}')\n",
    "print(f'mde statsmodels = {mde_2*std:0.4f}\\n')"
   ]
  },
  {
   "cell_type": "markdown",
   "metadata": {
    "id": "6agG76oLBRDL"
   },
   "source": [
    "# Размер выборки (sample size) и минимальный детектируемый эффект (MDE) для сравнения  пропорций"
   ]
  },
  {
   "cell_type": "markdown",
   "metadata": {
    "id": "Lu9rdrAhjBLM"
   },
   "source": [
    "Рассмотрим гипотезу о равенстве средних\n",
    "\n",
    "$H_0: p_X = p_Y$\n",
    "\n",
    "против альтернативной\n",
    "\n",
    "$H_1: p_X \\neq p_Y$\n",
    "\n",
    "\n",
    "$$n = \\dfrac{\\left[ \\Phi^{-1} \\Bigl( 1-\\dfrac{\\alpha}{2} \\Bigr) + \\Phi^{-1} \\Bigl( 1-\\beta \\Bigr) \\right]^2 (p_X*(1-p_X) + p_Y*(1-p_Y))}{\\Delta^2}$$\n",
    "\n",
    "${\\alpha}$ − вероятность ошибки первого рода, она же уровень значимости\n",
    "\n",
    "${\\beta}$ − вероятность ошибки второго рода\n",
    "\n",
    "$p_X*(1-p_X) , p_Y*(1-p_Y)$  − дисперсии в контрольной и экспериментальной группах соответственно\n",
    "\n",
    "$\\Delta = p_X - p_Y$ − ожидаемый эффект - эффект, который мы ожидаем получить от эксперимента\n",
    "\n",
    "$\\Phi^{-1}$ − Обратная функция нормального распределения\n",
    "\n",
    "Для ${\\alpha} = 0.05,  \\Phi^{-1} \\Bigl( 1-\\dfrac{\\alpha}{2}\\Bigr) = 1.96$,\n",
    "\n",
    "Для ${\\beta} = 0.1,  \\Phi^{-1} \\Bigl( 1-\\beta \\Bigr) = 1.28$\n",
    "\n",
    "Реализация формулы для случая **двустороннего теста** (для одностороннего  заменить  $\\Phi^{-1} \\Bigl( 1-\\dfrac{\\alpha}{2}\\Bigr)$  на $\\Phi^{-1} \\Bigl( 1-{\\alpha}\\Bigr)$\n",
    "\n",
    "Для получения MDE для пропорций сразу используем готовое решение"
   ]
  },
  {
   "cell_type": "code",
   "execution_count": 1654,
   "metadata": {
    "executionInfo": {
     "elapsed": 36,
     "status": "ok",
     "timestamp": 1674542420102,
     "user": {
      "displayName": "Nikolay Nazarov",
      "userId": "18018785782997408667"
     },
     "user_tz": -420
    },
    "id": "B4TKdg-njj4V"
   },
   "outputs": [],
   "source": [
    "#   Для абсолютного изменения\n",
    "def get_sample_size_abs(p, delta, alpha=0.05, beta=0.2):\n",
    "    t_alpha = norm.ppf(1 - alpha / 2, loc=0, scale=1)\n",
    "    t_beta = norm.ppf(1 - beta, loc=0, scale=1)\n",
    "    z_scores_sum_squared = (t_alpha + t_beta) ** 2\n",
    "    var = (p * (1 - p)) + ((p + delta) * (1 - (p + delta))) \n",
    "    sample_size = int(\n",
    "        np.ceil(\n",
    "            z_scores_sum_squared * var / (delta ** 2)\n",
    "        )\n",
    "    )\n",
    "    return sample_size\n",
    "\n",
    "#   Для относительного изменения\n",
    "def get_sample_size_arb(p, eff, alpha=0.05, beta=0.2):\n",
    "    delta = (eff - 1) * p\n",
    "    return get_sample_size_abs(p=p, delta=delta, alpha=alpha, beta=beta)"
   ]
  },
  {
   "cell_type": "markdown",
   "metadata": {},
   "source": [
    "###  Есть и готовая реализация"
   ]
  },
  {
   "cell_type": "code",
   "execution_count": 1655,
   "metadata": {},
   "outputs": [],
   "source": [
    "from statsmodels.stats.power import zt_ind_solve_power"
   ]
  },
  {
   "cell_type": "markdown",
   "metadata": {},
   "source": [
    "### Пример"
   ]
  },
  {
   "cell_type": "code",
   "execution_count": 1656,
   "metadata": {},
   "outputs": [],
   "source": [
    "p = 0.3\n",
    "eff = 1.1\n",
    "alpha = 0.05\n",
    "beta = 0.2"
   ]
  },
  {
   "cell_type": "code",
   "execution_count": 1657,
   "metadata": {},
   "outputs": [
    {
     "name": "stdout",
     "output_type": "stream",
     "text": [
      "sample_size:\n",
      "get_sample_size = 3760\n",
      "statsmodels = 3762\n",
      "\n",
      "mde:\n",
      "statsmodels = 0.02961\n"
     ]
    }
   ],
   "source": [
    "sample_size_1 = get_sample_size_arb(p=p,  \n",
    "                                    eff=eff,\n",
    "                                    alpha=0.05, \n",
    "                                    beta=0.2)\n",
    "\n",
    "standardized_effect_size = 2 * (np.arcsin(np.sqrt(p)) - np.arcsin(np.sqrt(p*eff)))\n",
    "sample_size_2 = zt_ind_solve_power(effect_size=standardized_effect_size,\n",
    "                                    nobs1=None,                                   \n",
    "                                    alpha=alpha,\n",
    "                                    power=1-beta,\n",
    "                                    ratio=1.0,\n",
    "                                    alternative='two-sided'\n",
    "                                  )\n",
    "\n",
    "print('sample_size:')\n",
    "print(f'get_sample_size = {sample_size_1}', f'statsmodels = {sample_size_2:1.0f}', sep = '\\n', end = '\\n\\n')\n",
    "\n",
    "\n",
    "sample_size = sample_size_1\n",
    "\n",
    "\n",
    "mde = zt_ind_solve_power(effect_size=None,\n",
    "                           nobs1=sample_size,\n",
    "                           alpha=alpha,\n",
    "                           power=1-beta,\n",
    "                           ratio=1.0,\n",
    "                           alternative='two-sided')\n",
    "\n",
    "#  Пакет statsmodels возвращает стандартизированное\n",
    "#  значение MDE (долю от среднеквадратичного отклонения)\n",
    "mde_abs = mde * (np.sqrt(p * (1 - p)))\n",
    "print('mde:')\n",
    "print(f'statsmodels = {mde_abs:0.5f}', sep = '\\n', end = '\\n')"
   ]
  },
  {
   "cell_type": "code",
   "execution_count": 1658,
   "metadata": {
    "colab": {
     "base_uri": "https://localhost:8080/"
    },
    "executionInfo": {
     "elapsed": 17059,
     "status": "ok",
     "timestamp": 1674542477815,
     "user": {
      "displayName": "Nikolay Nazarov",
      "userId": "18018785782997408667"
     },
     "user_tz": -420
    },
    "id": "PXaNl3ouuERd",
    "outputId": "7f31c6fe-2a48-4837-b528-a6dabc74b38a"
   },
   "outputs": [
    {
     "name": "stdout",
     "output_type": "stream",
     "text": [
      "mde = 0.06461365653606967\n",
      "\n",
      "Ошибки I и II рода:\n",
      "  0.048 \t0.203\n",
      "  0.055 \t0.198\n",
      "  0.043 \t0.217\n",
      "  0.056 \t0.220\n",
      "  0.050 \t0.210\n"
     ]
    }
   ],
   "source": [
    "def check_ztest(a, b, alpha=0.05):\n",
    "    _, pvalue = proportions_ztest([sum(a), sum(b)], [len(a), len(b)], value=0)\n",
    "    return int(pvalue < alpha)\n",
    "\n",
    "print(f'mde = {mde}\\n')\n",
    "print('Ошибки I и II рода:')\n",
    "for _ in range(5):\n",
    "    result_aa = []\n",
    "    result_ab = []\n",
    "    for _ in range(5000):\n",
    "        a_one = np.random.binomial(n=1, p=p, size=sample_size)\n",
    "        a_two = np.random.binomial(n=1, p=p, size=sample_size)\n",
    "        b = np.random.binomial(n=1, p=p + mde_abs, size=sample_size)\n",
    "        result_aa.append(check_ztest(a_one, a_two, alpha=alpha))\n",
    "        result_ab.append(check_ztest(a_one, b, alpha=alpha))\n",
    "\n",
    "    error_first = np.mean(result_aa)\n",
    "    error_second = 1 - np.mean(result_ab)\n",
    "    print(f'  {error_first:0.3f} \\t{error_second:0.3f}')"
   ]
  }
 ],
 "metadata": {
  "colab": {
   "provenance": []
  },
  "kernelspec": {
   "display_name": "Python 3 (ipykernel)",
   "language": "python",
   "name": "python3"
  },
  "language_info": {
   "codemirror_mode": {
    "name": "ipython",
    "version": 3
   },
   "file_extension": ".py",
   "mimetype": "text/x-python",
   "name": "python",
   "nbconvert_exporter": "python",
   "pygments_lexer": "ipython3",
   "version": "3.9.13"
  },
  "widgets": {
   "application/vnd.jupyter.widget-state+json": {
    "1d791c89505743339e344ebae7eb56ce": {
     "model_module": "@jupyter-widgets/controls",
     "model_module_version": "1.5.0",
     "model_name": "DescriptionStyleModel",
     "state": {
      "_model_module": "@jupyter-widgets/controls",
      "_model_module_version": "1.5.0",
      "_model_name": "DescriptionStyleModel",
      "_view_count": null,
      "_view_module": "@jupyter-widgets/base",
      "_view_module_version": "1.2.0",
      "_view_name": "StyleView",
      "description_width": ""
     }
    },
    "24592492d78b486fa20543e961d694e4": {
     "model_module": "@jupyter-widgets/base",
     "model_module_version": "1.2.0",
     "model_name": "LayoutModel",
     "state": {
      "_model_module": "@jupyter-widgets/base",
      "_model_module_version": "1.2.0",
      "_model_name": "LayoutModel",
      "_view_count": null,
      "_view_module": "@jupyter-widgets/base",
      "_view_module_version": "1.2.0",
      "_view_name": "LayoutView",
      "align_content": null,
      "align_items": null,
      "align_self": null,
      "border": null,
      "bottom": null,
      "display": null,
      "flex": null,
      "flex_flow": null,
      "grid_area": null,
      "grid_auto_columns": null,
      "grid_auto_flow": null,
      "grid_auto_rows": null,
      "grid_column": null,
      "grid_gap": null,
      "grid_row": null,
      "grid_template_areas": null,
      "grid_template_columns": null,
      "grid_template_rows": null,
      "height": "350px",
      "justify_content": null,
      "justify_items": null,
      "left": null,
      "margin": null,
      "max_height": null,
      "max_width": null,
      "min_height": null,
      "min_width": null,
      "object_fit": null,
      "object_position": null,
      "order": null,
      "overflow": null,
      "overflow_x": null,
      "overflow_y": null,
      "padding": null,
      "right": null,
      "top": null,
      "visibility": null,
      "width": null
     }
    },
    "2a09e5c70db84630a5f3ffa4a544a4b5": {
     "model_module": "@jupyter-widgets/controls",
     "model_module_version": "1.5.0",
     "model_name": "SliderStyleModel",
     "state": {
      "_model_module": "@jupyter-widgets/controls",
      "_model_module_version": "1.5.0",
      "_model_name": "SliderStyleModel",
      "_view_count": null,
      "_view_module": "@jupyter-widgets/base",
      "_view_module_version": "1.2.0",
      "_view_name": "StyleView",
      "description_width": "",
      "handle_color": null
     }
    },
    "2f4ba44232da4dd58bf401453ae71043": {
     "model_module": "@jupyter-widgets/output",
     "model_module_version": "1.0.0",
     "model_name": "OutputModel",
     "state": {
      "_dom_classes": [],
      "_model_module": "@jupyter-widgets/output",
      "_model_module_version": "1.0.0",
      "_model_name": "OutputModel",
      "_view_count": null,
      "_view_module": "@jupyter-widgets/output",
      "_view_module_version": "1.0.0",
      "_view_name": "OutputView",
      "layout": "IPY_MODEL_24592492d78b486fa20543e961d694e4",
      "msg_id": "",
      "outputs": [
       {
        "data": {
         "image/png": "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\n",
         "text/plain": "<Figure size 720x360 with 1 Axes>"
        },
        "metadata": {
         "needs_background": "light"
        },
        "output_type": "display_data"
       }
      ]
     }
    },
    "2fdb2dae79854d219792e109a1077e32": {
     "model_module": "@jupyter-widgets/controls",
     "model_module_version": "1.5.0",
     "model_name": "FloatSliderModel",
     "state": {
      "_dom_classes": [],
      "_model_module": "@jupyter-widgets/controls",
      "_model_module_version": "1.5.0",
      "_model_name": "FloatSliderModel",
      "_view_count": null,
      "_view_module": "@jupyter-widgets/controls",
      "_view_module_version": "1.5.0",
      "_view_name": "FloatSliderView",
      "continuous_update": true,
      "description": "alpha:",
      "description_tooltip": null,
      "disabled": false,
      "layout": "IPY_MODEL_fe4f24f6ef9346cf8a9da9a6533565cf",
      "max": 0.25,
      "min": 0.01,
      "orientation": "horizontal",
      "readout": true,
      "readout_format": ".2f",
      "step": 0.01,
      "style": "IPY_MODEL_df0b53f19c4d42b9929d3d771b652741",
      "value": 0.1
     }
    },
    "45f2a75bc1ef42749be039e3cc9f3f59": {
     "model_module": "@jupyter-widgets/controls",
     "model_module_version": "1.5.0",
     "model_name": "CheckboxModel",
     "state": {
      "_dom_classes": [],
      "_model_module": "@jupyter-widgets/controls",
      "_model_module_version": "1.5.0",
      "_model_name": "CheckboxModel",
      "_view_count": null,
      "_view_module": "@jupyter-widgets/controls",
      "_view_module_version": "1.5.0",
      "_view_name": "CheckboxView",
      "description": "two_side",
      "description_tooltip": null,
      "disabled": false,
      "indent": true,
      "layout": "IPY_MODEL_ba783941fa0c49aabaf952279de66e48",
      "style": "IPY_MODEL_1d791c89505743339e344ebae7eb56ce",
      "value": true
     }
    },
    "7f644d6dcf62437ca07ee855a605d06f": {
     "model_module": "@jupyter-widgets/base",
     "model_module_version": "1.2.0",
     "model_name": "LayoutModel",
     "state": {
      "_model_module": "@jupyter-widgets/base",
      "_model_module_version": "1.2.0",
      "_model_name": "LayoutModel",
      "_view_count": null,
      "_view_module": "@jupyter-widgets/base",
      "_view_module_version": "1.2.0",
      "_view_name": "LayoutView",
      "align_content": null,
      "align_items": null,
      "align_self": null,
      "border": null,
      "bottom": null,
      "display": null,
      "flex": null,
      "flex_flow": null,
      "grid_area": null,
      "grid_auto_columns": null,
      "grid_auto_flow": null,
      "grid_auto_rows": null,
      "grid_column": null,
      "grid_gap": null,
      "grid_row": null,
      "grid_template_areas": null,
      "grid_template_columns": null,
      "grid_template_rows": null,
      "height": null,
      "justify_content": null,
      "justify_items": null,
      "left": null,
      "margin": null,
      "max_height": null,
      "max_width": null,
      "min_height": null,
      "min_width": null,
      "object_fit": null,
      "object_position": null,
      "order": null,
      "overflow": null,
      "overflow_x": null,
      "overflow_y": null,
      "padding": null,
      "right": null,
      "top": null,
      "visibility": null,
      "width": null
     }
    },
    "92069d7d93fb452ea17ee2e3ea251c13": {
     "model_module": "@jupyter-widgets/controls",
     "model_module_version": "1.5.0",
     "model_name": "SliderStyleModel",
     "state": {
      "_model_module": "@jupyter-widgets/controls",
      "_model_module_version": "1.5.0",
      "_model_name": "SliderStyleModel",
      "_view_count": null,
      "_view_module": "@jupyter-widgets/base",
      "_view_module_version": "1.2.0",
      "_view_name": "StyleView",
      "description_width": "",
      "handle_color": null
     }
    },
    "a6e9174e16fc4869b2b66df9abbbcc53": {
     "model_module": "@jupyter-widgets/controls",
     "model_module_version": "1.5.0",
     "model_name": "FloatSliderModel",
     "state": {
      "_dom_classes": [],
      "_model_module": "@jupyter-widgets/controls",
      "_model_module_version": "1.5.0",
      "_model_name": "FloatSliderModel",
      "_view_count": null,
      "_view_module": "@jupyter-widgets/controls",
      "_view_module_version": "1.5.0",
      "_view_name": "FloatSliderView",
      "continuous_update": true,
      "description": "H1 mean:",
      "description_tooltip": null,
      "disabled": false,
      "layout": "IPY_MODEL_fdc094dbc0004d0d8a7d256e70132fb0",
      "max": 6,
      "min": 0,
      "orientation": "horizontal",
      "readout": true,
      "readout_format": ".2f",
      "step": 0.1,
      "style": "IPY_MODEL_2a09e5c70db84630a5f3ffa4a544a4b5",
      "value": 2
     }
    },
    "ba783941fa0c49aabaf952279de66e48": {
     "model_module": "@jupyter-widgets/base",
     "model_module_version": "1.2.0",
     "model_name": "LayoutModel",
     "state": {
      "_model_module": "@jupyter-widgets/base",
      "_model_module_version": "1.2.0",
      "_model_name": "LayoutModel",
      "_view_count": null,
      "_view_module": "@jupyter-widgets/base",
      "_view_module_version": "1.2.0",
      "_view_name": "LayoutView",
      "align_content": null,
      "align_items": null,
      "align_self": null,
      "border": null,
      "bottom": null,
      "display": null,
      "flex": null,
      "flex_flow": null,
      "grid_area": null,
      "grid_auto_columns": null,
      "grid_auto_flow": null,
      "grid_auto_rows": null,
      "grid_column": null,
      "grid_gap": null,
      "grid_row": null,
      "grid_template_areas": null,
      "grid_template_columns": null,
      "grid_template_rows": null,
      "height": null,
      "justify_content": null,
      "justify_items": null,
      "left": null,
      "margin": null,
      "max_height": null,
      "max_width": null,
      "min_height": null,
      "min_width": null,
      "object_fit": null,
      "object_position": null,
      "order": null,
      "overflow": null,
      "overflow_x": null,
      "overflow_y": null,
      "padding": null,
      "right": null,
      "top": null,
      "visibility": null,
      "width": null
     }
    },
    "baf756b610574601809b76e186fae039": {
     "model_module": "@jupyter-widgets/controls",
     "model_module_version": "1.5.0",
     "model_name": "VBoxModel",
     "state": {
      "_dom_classes": [
       "widget-interact"
      ],
      "_model_module": "@jupyter-widgets/controls",
      "_model_module_version": "1.5.0",
      "_model_name": "VBoxModel",
      "_view_count": null,
      "_view_module": "@jupyter-widgets/controls",
      "_view_module_version": "1.5.0",
      "_view_name": "VBoxView",
      "box_style": "",
      "children": [
       "IPY_MODEL_a6e9174e16fc4869b2b66df9abbbcc53",
       "IPY_MODEL_dd6333072ce74b72bfa61f1a71c5c506",
       "IPY_MODEL_2fdb2dae79854d219792e109a1077e32",
       "IPY_MODEL_45f2a75bc1ef42749be039e3cc9f3f59",
       "IPY_MODEL_2f4ba44232da4dd58bf401453ae71043"
      ],
      "layout": "IPY_MODEL_7f644d6dcf62437ca07ee855a605d06f"
     }
    },
    "be9d768bf5db42dda73fbedd755637da": {
     "model_module": "@jupyter-widgets/base",
     "model_module_version": "1.2.0",
     "model_name": "LayoutModel",
     "state": {
      "_model_module": "@jupyter-widgets/base",
      "_model_module_version": "1.2.0",
      "_model_name": "LayoutModel",
      "_view_count": null,
      "_view_module": "@jupyter-widgets/base",
      "_view_module_version": "1.2.0",
      "_view_name": "LayoutView",
      "align_content": null,
      "align_items": null,
      "align_self": null,
      "border": null,
      "bottom": null,
      "display": null,
      "flex": null,
      "flex_flow": null,
      "grid_area": null,
      "grid_auto_columns": null,
      "grid_auto_flow": null,
      "grid_auto_rows": null,
      "grid_column": null,
      "grid_gap": null,
      "grid_row": null,
      "grid_template_areas": null,
      "grid_template_columns": null,
      "grid_template_rows": null,
      "height": null,
      "justify_content": null,
      "justify_items": null,
      "left": null,
      "margin": null,
      "max_height": null,
      "max_width": null,
      "min_height": null,
      "min_width": null,
      "object_fit": null,
      "object_position": null,
      "order": null,
      "overflow": null,
      "overflow_x": null,
      "overflow_y": null,
      "padding": null,
      "right": null,
      "top": null,
      "visibility": null,
      "width": null
     }
    },
    "dd6333072ce74b72bfa61f1a71c5c506": {
     "model_module": "@jupyter-widgets/controls",
     "model_module_version": "1.5.0",
     "model_name": "FloatSliderModel",
     "state": {
      "_dom_classes": [],
      "_model_module": "@jupyter-widgets/controls",
      "_model_module_version": "1.5.0",
      "_model_name": "FloatSliderModel",
      "_view_count": null,
      "_view_module": "@jupyter-widgets/controls",
      "_view_module_version": "1.5.0",
      "_view_name": "FloatSliderView",
      "continuous_update": true,
      "description": "H1 std:",
      "description_tooltip": null,
      "disabled": false,
      "layout": "IPY_MODEL_be9d768bf5db42dda73fbedd755637da",
      "max": 2,
      "min": 0.5,
      "orientation": "horizontal",
      "readout": true,
      "readout_format": ".2f",
      "step": 0.1,
      "style": "IPY_MODEL_92069d7d93fb452ea17ee2e3ea251c13",
      "value": 2
     }
    },
    "df0b53f19c4d42b9929d3d771b652741": {
     "model_module": "@jupyter-widgets/controls",
     "model_module_version": "1.5.0",
     "model_name": "SliderStyleModel",
     "state": {
      "_model_module": "@jupyter-widgets/controls",
      "_model_module_version": "1.5.0",
      "_model_name": "SliderStyleModel",
      "_view_count": null,
      "_view_module": "@jupyter-widgets/base",
      "_view_module_version": "1.2.0",
      "_view_name": "StyleView",
      "description_width": "",
      "handle_color": null
     }
    },
    "fdc094dbc0004d0d8a7d256e70132fb0": {
     "model_module": "@jupyter-widgets/base",
     "model_module_version": "1.2.0",
     "model_name": "LayoutModel",
     "state": {
      "_model_module": "@jupyter-widgets/base",
      "_model_module_version": "1.2.0",
      "_model_name": "LayoutModel",
      "_view_count": null,
      "_view_module": "@jupyter-widgets/base",
      "_view_module_version": "1.2.0",
      "_view_name": "LayoutView",
      "align_content": null,
      "align_items": null,
      "align_self": null,
      "border": null,
      "bottom": null,
      "display": null,
      "flex": null,
      "flex_flow": null,
      "grid_area": null,
      "grid_auto_columns": null,
      "grid_auto_flow": null,
      "grid_auto_rows": null,
      "grid_column": null,
      "grid_gap": null,
      "grid_row": null,
      "grid_template_areas": null,
      "grid_template_columns": null,
      "grid_template_rows": null,
      "height": null,
      "justify_content": null,
      "justify_items": null,
      "left": null,
      "margin": null,
      "max_height": null,
      "max_width": null,
      "min_height": null,
      "min_width": null,
      "object_fit": null,
      "object_position": null,
      "order": null,
      "overflow": null,
      "overflow_x": null,
      "overflow_y": null,
      "padding": null,
      "right": null,
      "top": null,
      "visibility": null,
      "width": null
     }
    },
    "fe4f24f6ef9346cf8a9da9a6533565cf": {
     "model_module": "@jupyter-widgets/base",
     "model_module_version": "1.2.0",
     "model_name": "LayoutModel",
     "state": {
      "_model_module": "@jupyter-widgets/base",
      "_model_module_version": "1.2.0",
      "_model_name": "LayoutModel",
      "_view_count": null,
      "_view_module": "@jupyter-widgets/base",
      "_view_module_version": "1.2.0",
      "_view_name": "LayoutView",
      "align_content": null,
      "align_items": null,
      "align_self": null,
      "border": null,
      "bottom": null,
      "display": null,
      "flex": null,
      "flex_flow": null,
      "grid_area": null,
      "grid_auto_columns": null,
      "grid_auto_flow": null,
      "grid_auto_rows": null,
      "grid_column": null,
      "grid_gap": null,
      "grid_row": null,
      "grid_template_areas": null,
      "grid_template_columns": null,
      "grid_template_rows": null,
      "height": null,
      "justify_content": null,
      "justify_items": null,
      "left": null,
      "margin": null,
      "max_height": null,
      "max_width": null,
      "min_height": null,
      "min_width": null,
      "object_fit": null,
      "object_position": null,
      "order": null,
      "overflow": null,
      "overflow_x": null,
      "overflow_y": null,
      "padding": null,
      "right": null,
      "top": null,
      "visibility": null,
      "width": null
     }
    }
   }
  }
 },
 "nbformat": 4,
 "nbformat_minor": 1
}
