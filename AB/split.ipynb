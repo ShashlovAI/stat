{
 "cells": [
  {
   "cell_type": "code",
   "execution_count": 22,
   "metadata": {
    "executionInfo": {
     "elapsed": 54,
     "status": "ok",
     "timestamp": 1674543674614,
     "user": {
      "displayName": "Nikolay Nazarov",
      "userId": "18018785782997408667"
     },
     "user_tz": -420
    },
    "id": "d_zklbpuMKf7"
   },
   "outputs": [],
   "source": [
    "from hashlib import md5"
   ]
  },
  {
   "cell_type": "markdown",
   "metadata": {},
   "source": [
    "$$Хеширование$$\n",
    "\n",
    "A| B\n",
    "------------ | -------------\n",
    "A| B\n",
    "\n",
    "$$Двойное   хеширование$$\n",
    "\n",
    "\n",
    "| <!-- -->      | A1       | B1     |\n",
    "|:-------------:|:---------------:|:-------------:|\n",
    "| **A2**         | A1 A2        | B1 A2       |\n",
    "| **B2**         | A1 B2       | B1 B2       |\n"
   ]
  },
  {
   "cell_type": "code",
   "execution_count": 23,
   "metadata": {},
   "outputs": [],
   "source": [
    "def ab_split(user_id, salt='exp_mess_1', n_groups=5):\n",
    "    test_id = str(user_id) + '-' + str(salt)\n",
    "    test_id_digest = md5(test_id.encode('ascii')).hexdigest()\n",
    "    test_id_final_int = int(test_id_digest, 16)\n",
    "    return test_id_final_int % n_groups"
   ]
  }
 ],
 "metadata": {
  "colab": {
   "provenance": []
  },
  "kernelspec": {
   "display_name": "Python 3 (ipykernel)",
   "language": "python",
   "name": "python3"
  },
  "language_info": {
   "codemirror_mode": {
    "name": "ipython",
    "version": 3
   },
   "file_extension": ".py",
   "mimetype": "text/x-python",
   "name": "python",
   "nbconvert_exporter": "python",
   "pygments_lexer": "ipython3",
   "version": "3.9.13"
  }
 },
 "nbformat": 4,
 "nbformat_minor": 1
}
