{
 "cells": [
  {
   "cell_type": "markdown",
   "id": "6fd19109",
   "metadata": {},
   "source": [
    "# Литература\n",
    "[Practitioner’s Guide to Statistical Tests](https://vkteam.medium.com/practitioners-guide-to-statistical-tests-ed2d580ef04f#d2d3)\n",
    "\n",
    "[А/Б тесты с метрикой отношения. Дельта-метод](https://habr.com/ru/companies/X5Tech/articles/740476/)\n",
    "\n",
    "[A/B-тесты с метриками-отношениями и при чём здесь внутрипользовательские корреляции](https://www.youtube.com/watch?v=ObzlKVCiBqI&list=PLAynZk3jFRd_81lZ1W0E9XEyXtAljkBlh&index=7&t=5201s)"
   ]
  },
  {
   "cell_type": "code",
   "execution_count": null,
   "id": "a9861c09",
   "metadata": {},
   "outputs": [],
   "source": []
  }
 ],
 "metadata": {
  "kernelspec": {
   "display_name": "Python 3 (ipykernel)",
   "language": "python",
   "name": "python3"
  },
  "language_info": {
   "codemirror_mode": {
    "name": "ipython",
    "version": 3
   },
   "file_extension": ".py",
   "mimetype": "text/x-python",
   "name": "python",
   "nbconvert_exporter": "python",
   "pygments_lexer": "ipython3",
   "version": "3.11.3"
  }
 },
 "nbformat": 4,
 "nbformat_minor": 5
}
