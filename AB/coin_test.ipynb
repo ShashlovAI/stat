{
 "cells": [
  {
   "cell_type": "code",
   "execution_count": 6,
   "id": "68505bd9",
   "metadata": {},
   "outputs": [],
   "source": [
    "import numpy as np\n",
    "from scipy import stats"
   ]
  },
  {
   "cell_type": "markdown",
   "id": "0ac83d55",
   "metadata": {},
   "source": [
    "# Как проверить, честная ли монетка?"
   ]
  },
  {
   "cell_type": "markdown",
   "id": "49657be1",
   "metadata": {},
   "source": [
    " 1) **Гипотезы и предположения**\n",
    "\n",
    "    $H_{0} :  p = \\frac{1}{2}$\n",
    "\n",
    "    $H_{1} :  p ≠ \\frac{1}{2}$\n",
    "    "
   ]
  },
  {
   "cell_type": "markdown",
   "id": "b541912b",
   "metadata": {},
   "source": [
    "2) **Статистика**\n",
    "\n",
    "    $\\normalsize \\bar{x}  = \\frac{x_{1} + x_{2} +  ... + x_{n} }{n}$\n",
    "\n",
    "    $\\normalsize \\bar{x} \\sim N (\\mu,\\frac{\\sigma^{2}}{n})$\n",
    "\n",
    "    $\\normalsize \\bar{x} - \\mu \\sim N (0,\\frac{\\sigma^{2}}{n})$\n",
    "\n",
    "    $\\normalsize \\frac{\\bar{x} -\\mu}{\\frac{\\sigma}{\\sqrt{n}}} \\sim N (0, 1)$"
   ]
  },
  {
   "cell_type": "markdown",
   "id": "e68d2ad2",
   "metadata": {},
   "source": [
    "3) **Уровень значимости**\n",
    "\n",
    "    $\\normalsize \\alpha = 0.05$\n"
   ]
  },
  {
   "cell_type": "markdown",
   "id": "80acae3f",
   "metadata": {},
   "source": [
    "4) **Критическое множество**"
   ]
  },
  {
   "cell_type": "code",
   "execution_count": 23,
   "id": "5d4d1fe8",
   "metadata": {},
   "outputs": [],
   "source": [
    "alpha = 0.05\n",
    "left_quant = alpha / 2\n",
    "right_quant = 1 - alpha / 2\n",
    "t_cr = stats.norm.ppf(right_quant)"
   ]
  },
  {
   "cell_type": "code",
   "execution_count": 24,
   "id": "941d167b",
   "metadata": {},
   "outputs": [
    {
     "data": {
      "text/plain": [
       "1.959963984540054"
      ]
     },
     "execution_count": 24,
     "metadata": {},
     "output_type": "execute_result"
    }
   ],
   "source": [
    "t_cr"
   ]
  },
  {
   "cell_type": "markdown",
   "id": "34e600b2",
   "metadata": {},
   "source": [
    "5) **Статистический критерий**"
   ]
  },
  {
   "cell_type": "markdown",
   "id": "2e005dce",
   "metadata": {},
   "source": [
    "\n",
    "$\\beta , MDE, n$\n",
    "\n",
    "\n",
    "\n",
    "\n",
    "$\\normalsize \\sigma^{2} = p(1-p)$\n",
    "\n",
    "$\\normalsize \\mu = p$\n",
    "\n",
    "\n",
    "\n",
    "\n",
    "\n",
    "\n",
    "$x = \\left\\{ \\begin{array}{cl}\n",
    "1 & , \\ p  \\\\\n",
    "0 & , \\ 1- p\n",
    "\\end{array} \\right.$\n",
    "\n",
    "$\\left| \\bar{x} - p \\right| \\lt \\varepsilon$"
   ]
  }
 ],
 "metadata": {
  "kernelspec": {
   "display_name": "Python 3 (ipykernel)",
   "language": "python",
   "name": "python3"
  },
  "language_info": {
   "codemirror_mode": {
    "name": "ipython",
    "version": 3
   },
   "file_extension": ".py",
   "mimetype": "text/x-python",
   "name": "python",
   "nbconvert_exporter": "python",
   "pygments_lexer": "ipython3",
   "version": "3.11.3"
  }
 },
 "nbformat": 4,
 "nbformat_minor": 5
}
