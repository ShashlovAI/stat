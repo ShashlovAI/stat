{
 "cells": [
  {
   "cell_type": "code",
   "execution_count": 4,
   "id": "68505bd9",
   "metadata": {},
   "outputs": [],
   "source": [
    "import numpy as np\n",
    "from scipy import stats"
   ]
  },
  {
   "cell_type": "markdown",
   "id": "0ac83d55",
   "metadata": {},
   "source": [
    "# Как проверить, честная ли монетка?"
   ]
  },
  {
   "cell_type": "markdown",
   "id": "49657be1",
   "metadata": {},
   "source": [
    " 1) **Гипотезы и предположения**\n",
    "\n",
    "$H_{0} :  p = \\frac{1}{2}$\n",
    "\n",
    "$H_{1} :  p ≠ \\frac{1}{2}$\n",
    "    "
   ]
  },
  {
   "cell_type": "markdown",
   "id": "b541912b",
   "metadata": {},
   "source": [
    "2) **Статистика**\n",
    "\n",
    "$\\normalsize \\bar{x}  = \\frac{x_{1} + x_{2} +  ... + x_{n} }{n}$\n",
    "\n",
    "$\\normalsize \\bar{x} \\sim N (\\mu,\\frac{\\sigma^{2}}{n})$\n",
    "\n",
    "$\\normalsize \\bar{x} - \\mu \\sim N (0,\\frac{\\sigma^{2}}{n})$\n",
    "\n",
    "$\\normalsize \\frac{\\bar{x} -\\mu}{\\frac{\\sigma}{\\sqrt{n}}} \\sim N (0, 1)$"
   ]
  },
  {
   "cell_type": "markdown",
   "id": "e68d2ad2",
   "metadata": {},
   "source": [
    "3) **Уровень значимости**\n",
    "\n",
    "$\\normalsize \\alpha = 0.05$\n"
   ]
  },
  {
   "cell_type": "markdown",
   "id": "80acae3f",
   "metadata": {},
   "source": [
    "4) **Критическое множество**"
   ]
  },
  {
   "cell_type": "markdown",
   "id": "16d6af1d",
   "metadata": {},
   "source": [
    "$\n",
    "P\\left(z_{0.025} \\leq \\frac{\\bar{x}-\\mu}{\\sigma / \\sqrt{n}} \\leq z_{0.975}\\right)=0.95\n",
    "$\n",
    "\n",
    "$\n",
    "P\\left(z_{0.025} \\frac{\\sigma}{\\sqrt{n}} \\leq \\bar{x}-\\mu \\leq z_{0.975} \\frac{\\sigma}{\\sqrt{n}}\\right)=0.95\n",
    "$\n",
    "\n",
    "\n",
    "$\\normalsize \\sigma^{2} = p(1-p)$\n",
    "\n",
    "$\\normalsize \\mu = p$\n",
    "\n",
    "$\n",
    " \\normalsize  \\frac{\\sigma}{\\sqrt{n}} \\sim \\sqrt \\frac{{p(1-p)}}{n} \\sim \\frac{1}{2}\\frac{1}{\\sqrt{n}}\n",
    "$"
   ]
  },
  {
   "cell_type": "code",
   "execution_count": 22,
   "id": "5d4d1fe8",
   "metadata": {},
   "outputs": [
    {
     "data": {
      "text/plain": [
       "(-1.9599639845400545, 1.959963984540054)"
      ]
     },
     "execution_count": 22,
     "metadata": {},
     "output_type": "execute_result"
    }
   ],
   "source": [
    "alpha = 0.05\n",
    "left_quant = stats.norm.ppf(alpha / 2)\n",
    "right_quant = stats.norm.ppf(1 - alpha / 2)\n",
    "(left_quant, right_quant)"
   ]
  },
  {
   "cell_type": "markdown",
   "id": "fb26906d",
   "metadata": {},
   "source": [
    "$\n",
    "P\\left(-\\frac{1.96}{2}\\frac{1}{\\sqrt{n}} \\leq \\bar{x}-p \\leq  \\frac{1.96}{2}\\frac{1}{\\sqrt{n}}\\right)=0.95\n",
    "$"
   ]
  },
  {
   "cell_type": "markdown",
   "id": "7fd3fef4",
   "metadata": {},
   "source": [
    "$\n",
    "P\\left(p-\\frac{1.96}{2}\\frac{1}{\\sqrt{n}} \\leq \\bar{x} \\leq p + \\frac{1.96}{2}\\frac{1}{\\sqrt{n}}\\right)=0.95\n",
    "$"
   ]
  },
  {
   "cell_type": "markdown",
   "id": "f78e30dc",
   "metadata": {},
   "source": [
    "$\n",
    "\\frac{1.96}{2}\\frac{1}{\\sqrt{n}} = \\varepsilon\n",
    "$\n",
    "\n",
    "$\n",
    "n = 9604\n",
    "$"
   ]
  },
  {
   "cell_type": "markdown",
   "id": "a77e94aa",
   "metadata": {},
   "source": [
    "$\n",
    "P\\left(p-0.01 \\leq \\bar{x} \\leq p + 0.01\\right)=0.95\n",
    "$\n",
    "\n",
    "$\n",
    "P\\left(0.49 \\leq \\bar{x} \\leq 0.51\\right)=0.95\n",
    "$"
   ]
  },
  {
   "cell_type": "code",
   "execution_count": 26,
   "id": "403c63c6",
   "metadata": {},
   "outputs": [
    {
     "data": {
      "text/plain": [
       "(4705.96, 4898.04)"
      ]
     },
     "execution_count": 26,
     "metadata": {},
     "output_type": "execute_result"
    }
   ],
   "source": [
    "(0.49*9604, 0.51*9604)"
   ]
  },
  {
   "cell_type": "markdown",
   "id": "2e005dce",
   "metadata": {},
   "source": [
    "\n",
    "$\\beta , MDE, n$\n",
    "\n",
    "\n",
    "\n",
    "\n",
    "$\\normalsize \\sigma^{2} = p(1-p)$\n",
    "\n",
    "$\\normalsize \\mu = p$\n",
    "\n",
    "\n",
    "\n",
    "\n",
    "\n",
    "\n",
    "$x = \\left\\{ \\begin{array}{cl}\n",
    "1 & , \\ p  \\\\\n",
    "0 & , \\ 1- p\n",
    "\\end{array} \\right.$\n",
    "\n",
    "$\\left| \\bar{x} - p \\right| \\lt \\varepsilon$"
   ]
  },
  {
   "cell_type": "code",
   "execution_count": 28,
   "id": "a28a7388",
   "metadata": {},
   "outputs": [
    {
     "data": {
      "text/plain": [
       "0.49"
      ]
     },
     "execution_count": 28,
     "metadata": {},
     "output_type": "execute_result"
    }
   ],
   "source": [
    "0.5 - (1.96/2)*(1/98)"
   ]
  }
 ],
 "metadata": {
  "kernelspec": {
   "display_name": "Python 3 (ipykernel)",
   "language": "python",
   "name": "python3"
  },
  "language_info": {
   "codemirror_mode": {
    "name": "ipython",
    "version": 3
   },
   "file_extension": ".py",
   "mimetype": "text/x-python",
   "name": "python",
   "nbconvert_exporter": "python",
   "pygments_lexer": "ipython3",
   "version": "3.9.13"
  }
 },
 "nbformat": 4,
 "nbformat_minor": 5
}
