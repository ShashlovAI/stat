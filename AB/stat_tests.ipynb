{
 "cells": [
  {
   "cell_type": "markdown",
   "metadata": {},
   "source": [
    "# Случайные величины:\n",
    "\n",
    "1. непрерывные нормально распределённые\n",
    "2. непрерывные не нормально распределённые\n",
    "3. бинарные\n",
    "\n",
    "# Задачи:\n",
    "\n",
    "1. дать точечную и интервальную оценку среднему\n",
    "2. сравнить среднее выборки с константой\n",
    "3. сравнить среднее двух выборок (или проверить, что выборки получены из одного и того же распределения)"
   ]
  },
  {
   "cell_type": "markdown",
   "metadata": {},
   "source": [
    "# Нормально распределённые случайные величины, известная дисперсия\n"
   ]
  },
  {
   "cell_type": "markdown",
   "metadata": {},
   "source": [
    "## 1. Точечная оценка и доверительный интервал"
   ]
  },
  {
   "cell_type": "markdown",
   "metadata": {},
   "source": [
    "Точечная оценка $\\bar{x}=\\frac{x_{1}+\\cdots+x_{n}}{n}$.\n",
    "Доверительный интервал $\\left[ \\bar{x}-z_{0.975} \\frac{\\sigma}{\\sqrt{n}}, \\bar{x}-z_{0.025} \\frac{\\sigma}{\\sqrt{n}}\\right]$, где $z$ это квантили распределения $N(0,1)$.\n"
   ]
  },
  {
   "cell_type": "markdown",
   "metadata": {},
   "source": [
    "## 2. Сравнение среднего с константой"
   ]
  },
  {
   "cell_type": "markdown",
   "metadata": {},
   "source": [
    "Статистика $\\frac{\\bar{x}-\\mu_{0}}{\\sigma / \\sqrt{n}}$, распределение статистики $N(0,1)$."
   ]
  },
  {
   "cell_type": "markdown",
   "metadata": {},
   "source": [
    "## 3. Сравнение средних двух выборок"
   ]
  },
  {
   "cell_type": "markdown",
   "metadata": {},
   "source": [
    " - Если дисперсии равны, то статистика $\\frac{\\bar{x}_{1}-\\bar{x}_{2}}{\\sigma \\sqrt{\\frac{1}{n_{1}}+\\frac{1}{n_{2}}}}$, распределение статистики $N(0,1)$.\n",
    " - Если дисперсии различны, то статистика $\\frac{\\bar{x}_{1}-\\bar{x}_{2}}{\\sqrt{\\frac{\\sigma_{1}^{2}}{n_{1}}+\\frac{\\sigma_{2}^{2}}{n_{2}}}}$, распределение статистики $N(0,1)$."
   ]
  },
  {
   "cell_type": "markdown",
   "metadata": {},
   "source": [
    "# Нормально распределённые случайные величины, неизвестная дисперсия"
   ]
  },
  {
   "cell_type": "markdown",
   "metadata": {},
   "source": [
    "## 1. Точечная оценка и доверительный интервал"
   ]
  },
  {
   "cell_type": "markdown",
   "metadata": {},
   "source": [
    "Точечная оценка $\\bar{x}=\\frac{x_{1}+\\cdots+x_{n}}{n}$.\n",
    "Доверительный интервал $\\left[\\bar{x}-t_{0.975,(n-1)} \\sqrt{\\bar{\\sigma}^{2} / n}, \\bar{x}-t_{0.025,(n-1)} \\sqrt{\\bar{\\sigma}^{2} / n}\\right]$, где $t_{(n-1)}$ это квантили распределения Стьюдента с $(n-1)$ степенью свободы."
   ]
  },
  {
   "cell_type": "markdown",
   "metadata": {},
   "source": [
    "## 2. Сравнение среднего с константой\n"
   ]
  },
  {
   "cell_type": "markdown",
   "metadata": {},
   "source": [
    "Статистика $\\frac{\\bar{x}-\\mu_{0}}{\\bar{\\sigma} / \\sqrt{n}}$, она имеет распределение Стьюдента с $(n-1)$ степенью свободы."
   ]
  },
  {
   "cell_type": "markdown",
   "metadata": {},
   "source": [
    "## 3. Сравнение средних двух выборок"
   ]
  },
  {
   "cell_type": "markdown",
   "metadata": {},
   "source": [
    "- Если дисперсии равны, то статистика $\\frac{\\bar{x}_{1}-\\bar{x}_{2}}{\\sqrt{\\frac{1}{n_{1}}+\\frac{1}{n_{2}}}} \\cdot \\sqrt{\\frac{\\left(n_{1}+n_{2}-2\\right)}{\\left(n_{1}-1\\right) \\bar{\\sigma}_{1}^{2}+\\left(n_{2}-1\\right) \\bar{\\sigma}_{2}^{2}}}$, она имеет распределение Стьюдента с $\\left(n_{1}+n_{2}-2\\right)$ степенями свободы.\n",
    "- Если дисперсии различны, то статистика $\\frac{\\bar{x}_{1}-\\bar{x}_{2}}{\\sqrt{\\frac{\\sigma_{1}^{2}}{n_{1}}+\\frac{\\sigma_{2}^{2}}{n_{2}}}}$, её распределение это примерно распределение  Стьюдента со страшным числом степеней свободы $\\frac{\\left(\\bar{\\sigma}_{1}^{2} / n_{1}+\\bar{\\sigma}_{2}^{2} / n_{2}\\right)^{2}}{\\left(\\bar{\\sigma}_{1}^{2} / n_{1}\\right)^{2} /\\left(n_{1}-1\\right)+\\left(\\bar{\\sigma}_{2}^{2} / n_{2}\\right)^{2} /\\left(n_{2}-1\\right)}$."
   ]
  },
  {
   "cell_type": "markdown",
   "metadata": {},
   "source": [
    "# Рабочий метод\n",
    "Для достаточно больших выборок $(n \\geq 50)$, с различными и неизвестными дисперсиями, считаем, что выборочные дисперсии хорошо описывают генеральные диисперсии. При $n \\geq 50$ распределение Стьюдента с $n$ степенями свободы почти неотличимо от распределения $N(0,1)$.\n"
   ]
  },
  {
   "cell_type": "markdown",
   "metadata": {},
   "source": [
    "## 1. Точечная оценка и доверительный интервал"
   ]
  },
  {
   "cell_type": "markdown",
   "metadata": {},
   "source": [
    "- Точечная оценка $\\bar{x}=\\frac{x_{1}+\\cdots+x_{n}}{n}$.\n",
    "\n",
    "- Доверительный интервал $\\left[\\bar{x}-z_{0.975} \\sqrt{\\bar{\\sigma}^{2} / n}, \\bar{x}-z_{0.025} \\sqrt{\\bar{\\sigma}^{2} / n}\\right]$, где $z$ это квантили распределения $N(0,1)$."
   ]
  },
  {
   "cell_type": "markdown",
   "metadata": {},
   "source": [
    "## 2. Сравнение среднего с константой"
   ]
  },
  {
   "cell_type": "markdown",
   "metadata": {},
   "source": [
    "Статистика $\\frac{\\bar{x}-\\mu_{0}}{\\bar{\\sigma} / \\sqrt{n}}$, она имеет распределение примерно $N(0,1)$."
   ]
  },
  {
   "cell_type": "markdown",
   "metadata": {},
   "source": [
    "## 3. Сравнение средних двух выборок"
   ]
  },
  {
   "cell_type": "markdown",
   "metadata": {},
   "source": [
    "Статистика $\\frac{\\bar{x}_{1}-\\bar{x}_{2}}{\\sqrt{\\frac{\\bar{\\sigma}_{1}^{2}}{n_{1}}+\\frac{\\bar{\\sigma}_{2}^{2}}{n_{2}}}}$, она имеет распределение примерно $N(0,1)$."
   ]
  },
  {
   "cell_type": "markdown",
   "metadata": {},
   "source": [
    "# Не нормально распределённые случайные величины"
   ]
  },
  {
   "cell_type": "markdown",
   "metadata": {},
   "source": [
    "## 1. Точечная оценка и доверительный интервал\n",
    "\n",
    "- Точечная оценка $\\bar{p}=\\frac{x_{1}+\\cdots+x_{n}}{n}$.\n",
    "\n",
    "- Доверительный интервал строится при помощи бутстрепа. Делаем псевдовыборки, у каждой считаем среднее.\n"
   ]
  },
  {
   "cell_type": "markdown",
   "metadata": {},
   "source": [
    "## 2. Сравнение среднего с константой\n",
    "\n",
    "- Бутстреп"
   ]
  },
  {
   "cell_type": "markdown",
   "metadata": {},
   "source": [
    "## 3. Сравнение распределений двух выборок\n",
    "\n",
    "U-тест Манна-Уитни:\n",
    "\n",
    "Статистика $\\sum_{i=1}^{n_{1}}\\left(\\sum_{j=1}^{n_{2}} S\\left(x_{i}, y_{j}\\right)\\right)$. Где $S\\left(x_{i}, y_{j}\\right)=1$, если $x_{i}>y_{j}, S\\left(x_{i}, y_{j}\\right)=0$, если $x_{i}<y_{j}$. и $S\\left(x_{i}, y_{j}\\right)=$ 0.5, если $x_{i}=y_{j}$.\n",
    "\n",
    "Критическое (двухстороннее) множество берется из таблицы."
   ]
  },
  {
   "cell_type": "code",
   "execution_count": 1,
   "metadata": {},
   "outputs": [],
   "source": []
  }
 ],
 "metadata": {
  "kernelspec": {
   "display_name": "Python 3 (ipykernel)",
   "language": "python",
   "name": "python3"
  },
  "language_info": {
   "codemirror_mode": {
    "name": "ipython",
    "version": 3
   },
   "file_extension": ".py",
   "mimetype": "text/x-python",
   "name": "python",
   "nbconvert_exporter": "python",
   "pygments_lexer": "ipython3",
   "version": "3.9.13"
  }
 },
 "nbformat": 4,
 "nbformat_minor": 1
}
