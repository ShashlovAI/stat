{
 "cells": [
  {
   "cell_type": "markdown",
   "id": "4014669d",
   "metadata": {},
   "source": [
    "* [Бутстреп и А/Б тестирование](https://habr.com/ru/companies/X5Tech/articles/679842/)\n",
    "* [Как определить размер выборки для бутстрэпа старым дедовским способом](https://habr.com/ru/amp/publications/707816/)"
   ]
  },
  {
   "cell_type": "code",
   "execution_count": 2,
   "id": "b30cca93",
   "metadata": {},
   "outputs": [],
   "source": [
    "import numpy as np\n",
    "import matplotlib.pyplot as plt\n",
    "import seaborn as sns\n",
    "from scipy.stats import norm"
   ]
  },
  {
   "cell_type": "code",
   "execution_count": 9,
   "id": "14d7b901",
   "metadata": {},
   "outputs": [],
   "source": [
    "def get_bootstrap(data_one, data_two, boot_it=1000, statistic=np.mean, conf_level=0.95):\n",
    "    '''Функция для проверки гипотез с помощью бутстрапа\n",
    "    \n",
    "    :param data_one: числовые значения первой выборки\n",
    "    :param data_two: числовые значения второй выборки\n",
    "    :param boot_it : количество бутстрэп-подвыборок\n",
    "    :param statistic : интересующая нас статистика\n",
    "    :param conf_level : уровень значимости   \n",
    "    :return p_value: p-value                        \n",
    "    '''\n",
    "    \n",
    "    \n",
    "    boot_len = max(len(data_one), len(data_two))    \n",
    "    boot_data = []\n",
    "    for _ in range(boot_it):\n",
    "        sample_data_one = np.random.choice(a=data_one, size=boot_len, replace=True)\n",
    "        sample_data_two = np.random.choice(a=data_two, size=boot_len, replace=True)\n",
    "        boot_data.append(statistic(sample_data_one) - statistic(sample_data_two))\n",
    "\n",
    "    left_quant = (1 - conf_level) / 2\n",
    "    right_quant = 1 - (1 - conf_level) / 2\n",
    "    ci = np.quantile(boot_data, [left_quant, right_quant]) \n",
    "    p_1 = norm.cdf(x=0, loc=np.mean(boot_data), scale=np.std(boot_data))\n",
    "    p_2 = norm.cdf(x=0, loc=-np.mean(boot_data), scale=np.std(boot_data))\n",
    "    p_value = min(p_1, p_2) * 2 \n",
    "\n",
    "    plt.style.use('ggplot')\n",
    "    plt.figure(figsize=(10, 6))\n",
    "    sns.histplot(data=boot_data, color='r')\n",
    "    plt.vlines(ci, ymin=0, ymax=100, linestyle='--', color='b')\n",
    "    plt.xlabel('Разница статистик в группах')\n",
    "    plt.ylabel('Частота')\n",
    "    plt.title(\"\")\n",
    "    plt.show()\n",
    "    \n",
    "    return p_value"
   ]
  },
  {
   "cell_type": "code",
   "execution_count": 10,
   "id": "a0937df1",
   "metadata": {},
   "outputs": [],
   "source": [
    "a = np.random.normal(loc=10, scale=2, size = 1000)\n",
    "b = np.random.normal(loc=10.5, scale=2, size = 1000)"
   ]
  },
  {
   "cell_type": "code",
   "execution_count": 12,
   "id": "fea5a9cd",
   "metadata": {},
   "outputs": [
    {
     "data": {
      "image/png": "[encoded data removed]",
      "text/plain": [
       "<Figure size 1000x600 with 1 Axes>"
      ]
     },
     "metadata": {},
     "output_type": "display_data"
    },
    {
     "data": {
      "text/plain": [
       "1.014408157996567e-05"
      ]
     },
     "execution_count": 12,
     "metadata": {},
     "output_type": "execute_result"
    }
   ],
   "source": [
    "get_bootstrap(a, b)"
   ]
  },
  {
   "cell_type": "markdown",
   "id": "7d16b850-1ec4-4251-ac5d-b8f15e4eb6c8",
   "metadata": {},
   "source": [
    "## Функция генерации подвыборок"
   ]
  },
  {
   "cell_type": "code",
   "execution_count": 13,
   "id": "2d5536bd-3b35-42ed-910e-8debefcc161d",
   "metadata": {},
   "outputs": [],
   "source": [
    "def generate_bootstrap_metrics(data_one, data_two, bootstrap_iter, bootstrap_agg_func, q = 0.95):\n",
    "    \"\"\"Генерирует значения метрики, полученные с помощью бутстрепа.\n",
    "\n",
    "    :param data_one, data_two (np.array): значения метрик в группах.\n",
    "    :param bootstrap_iter (int): количество итераций бутстрепа.\n",
    "    :param bootstrap_agg_func (str): метрика эксперимента.\n",
    "        Возможные значения ['mean', 'quantile'].\n",
    "    :param q (float) квантиль\n",
    "    :return bootstrap_metrics, pe_metric:\n",
    "        bootstrap_metrics (np.array) - множество значений статистики теста,\n",
    "            посчитанные на бутстрепных выборках.\n",
    "        pe_metric (float) - значение статистики теста посчитанное по исходным данным.\n",
    "    \"\"\"\n",
    "    bootstrap_data_one = np.random.choice(data_one, (len(data_one), bootstrap_iter))\n",
    "    bootstrap_data_two = np.random.choice(data_two, (len(data_two), bootstrap_iter))\n",
    "    if bootstrap_agg_func == 'mean':\n",
    "        bootstrap_metrics = bootstrap_data_two.mean(axis=0) - bootstrap_data_one.mean(axis=0)\n",
    "        pe_metric = data_two.mean() - data_one.mean()\n",
    "        return bootstrap_metrics, pe_metric\n",
    "    elif bootstrap_agg_func == 'quantile':\n",
    "        bootstrap_metrics = np.quantile(bootstrap_data_two, q, axis=0) - np.quantile(bootstrap_data_one, q, axis=0)\n",
    "        pe_metric = np.quantile(data_two, q) - np.quantile(data_one, q)\n",
    "        return bootstrap_metrics, pe_metric\n",
    "    else:\n",
    "        raise ValueError('Неверное значение bootstrap_agg_func')"
   ]
  }
 ],
 "metadata": {
  "kernelspec": {
   "display_name": "Python 3 (ipykernel)",
   "language": "python",
   "name": "python3"
  },
  "language_info": {
   "codemirror_mode": {
    "name": "ipython",
    "version": 3
   },
   "file_extension": ".py",
   "mimetype": "text/x-python",
   "name": "python",
   "nbconvert_exporter": "python",
   "pygments_lexer": "ipython3",
   "version": "3.11.9"
  }
 },
 "nbformat": 4,
 "nbformat_minor": 5
}
