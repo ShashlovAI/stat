{
 "cells": [
  {
   "cell_type": "markdown",
   "id": "40d827b2",
   "metadata": {},
   "source": [
    "# Литература\n",
    "\n",
    "* Увеличение чувствительности A/Б-тестов с помощью Cuped. Доклад в Яндексе\n",
    "[статья](https://habr.com/ru/companies/yandex/articles/497804/)\n",
    "[видео](https://www.youtube.com/watch?v=pZpUM08mv-E)\n",
    "\n",
    "* [Как улучшить ваши A/B-тесты: лайфхаки аналитиков Авито. Часть 2](https://habr.com/ru/companies/avito/articles/571096/)"
   ]
  },
  {
   "cell_type": "code",
   "execution_count": 1,
   "id": "503210e9",
   "metadata": {},
   "outputs": [],
   "source": [
    "# Сгенерить данные для двух групп для двух временных промежутков"
   ]
  },
  {
   "cell_type": "code",
   "execution_count": 9,
   "id": "8d2f40aa",
   "metadata": {},
   "outputs": [],
   "source": [
    "from collections import namedtuple\n",
    "import scipy.stats as sps\n",
    "import statsmodels.stats.api as sms\n",
    "from tqdm.notebook import tqdm as tqdm_notebook # tqdm – библиотека для визуализации прогресса в цикле\n",
    "from collections import defaultdict\n",
    "from statsmodels.stats.proportion import proportion_confint\n",
    "import numpy as np\n",
    "import itertools\n",
    "import seaborn as sns\n",
    "import matplotlib.pyplot as plt\n",
    "import seaborn as sns\n",
    "sns.set(font_scale=1.5, palette='Set2')\n",
    "ExperimentComparisonResults = namedtuple('ExperimentComparisonResults', \n",
    "                                        ['pvalue', 'effect', 'ci_length', 'left_bound', 'right_bound'])"
   ]
  },
  {
   "cell_type": "code",
   "execution_count": 11,
   "id": "c80ad141",
   "metadata": {},
   "outputs": [],
   "source": [
    "def absolute_ttest(control, test):\n",
    "    mean_control = np.mean(control)\n",
    "    mean_test = np.mean(test)\n",
    "    var_mean_control  = np.var(control) / len(control)\n",
    "    var_mean_test  = np.var(test) / len(test)\n",
    "    \n",
    "    difference_mean = mean_test - mean_control\n",
    "    difference_mean_var = var_mean_control + var_mean_test\n",
    "    difference_distribution = sps.norm(loc=difference_mean, scale=np.sqrt(difference_mean_var))\n",
    "\n",
    "    left_bound, right_bound = difference_distribution.ppf([0.025, 0.975])\n",
    "    ci_length = (right_bound - left_bound)\n",
    "    pvalue = 2 * min(difference_distribution.cdf(0), difference_distribution.sf(0))\n",
    "    effect = difference_mean\n",
    "    return ExperimentComparisonResults(pvalue, effect, ci_length, left_bound, right_bound)\n",
    "\n",
    "\n",
    "\n",
    "# 2. Создание тестируемого критерия\n",
    "def cuped_ttest(control, test, control_before, test_before):\n",
    "    theta = (np.cov(control, control_before)[0, 1] + np.cov(test, test_before)[0, 1]) /\\\n",
    "                (np.var(control_before) + np.var(test_before))\n",
    "\n",
    "    control_cup = control - theta * control_before\n",
    "    test_cup = test - theta * test_before\n",
    "    return absolute_ttest(control_cup, test_cup)"
   ]
  },
  {
   "cell_type": "code",
   "execution_count": 12,
   "id": "6ec3df0c",
   "metadata": {},
   "outputs": [
    {
     "name": "stdout",
     "output_type": "stream",
     "text": [
      "Реальный уровень значимости: 0.0526; доверительный интервал: [0.0501, 0.0552]\n"
     ]
    }
   ],
   "source": [
    "# 2. Создание тестируемого критерия.\n",
    "def cuped_ttest(control, test, control_before, test_before):\n",
    "    theta = (np.cov(control, control_before)[0, 1] + np.cov(test, test_before)[0, 1]) /\\\n",
    "                (np.var(control_before) + np.var(test_before))\n",
    "\n",
    "    control_cup = control - theta * control_before\n",
    "    test_cup = test - theta * test_before\n",
    "    return absolute_ttest(control_cup, test_cup)\n",
    "  \n",
    "# 3. Заводим счётчик.\n",
    "bad_cnt = 0\n",
    "\n",
    "# 4. Цикл проверки.\n",
    "N = 30000\n",
    "for i in range(N):\n",
    "    # 4.a. Тестирую A/B-тест.\n",
    "    control_before = sps.expon(scale=1000).rvs(1000)\n",
    "    control = control_before + sps.norm(loc=0, scale=100).rvs(1000)\n",
    "\n",
    "    test_before = sps.expon(scale=1000).rvs(1000)\n",
    "    test = test_before + sps.norm(loc=0, scale=100).rvs(1000)\n",
    "    test *= 1.1\n",
    "\n",
    "    # 4.b. Запускаю критерий.\n",
    "    _, _, _, left_bound, right_bound = cuped_ttest(control, test, control_before, test_before)\n",
    "    \n",
    "    # 4.c. Проверяю, лежит ли истинная разница средних в доверительном интервале.\n",
    "    if left_bound > 100 or right_bound < 100:\n",
    "        bad_cnt += 1\n",
    "        \n",
    "# 5. Строю доверительный интервал для конверсии ошибок у критерия.\n",
    "left_real_level, right_real_level = proportion_confint(count = bad_cnt, nobs = N, alpha=0.05, method='wilson')\n",
    "# Результат.\n",
    "print(f\"Реальный уровень значимости: {round(bad_cnt / N, 4)};\"\n",
    "      f\" доверительный интервал: [{round(left_real_level, 4)}, {round(right_real_level, 4)}]\")"
   ]
  },
  {
   "cell_type": "code",
   "execution_count": null,
   "id": "bae88460",
   "metadata": {},
   "outputs": [],
   "source": []
  }
 ],
 "metadata": {
  "kernelspec": {
   "display_name": "Python 3 (ipykernel)",
   "language": "python",
   "name": "python3"
  },
  "language_info": {
   "codemirror_mode": {
    "name": "ipython",
    "version": 3
   },
   "file_extension": ".py",
   "mimetype": "text/x-python",
   "name": "python",
   "nbconvert_exporter": "python",
   "pygments_lexer": "ipython3",
   "version": "3.11.3"
  }
 },
 "nbformat": 4,
 "nbformat_minor": 5
}
